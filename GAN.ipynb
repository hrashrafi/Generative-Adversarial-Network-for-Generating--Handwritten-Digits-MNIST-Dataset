{
 "cells": [
  {
   "cell_type": "markdown",
   "metadata": {
    "id": "4fVkrpDcjOfp"
   },
   "source": [
    "# Generative Adversarial Network\n",
    "\n",
    "The emergence of deep learning has brought Artificial Intelligence (AI) into the spotlight for image processing [1, 2].  Deep learning is capable of training computers to perform a wide range of tasks, such as image and speech recognition, using vast amounts of data. However, when it comes to creative endeavors, deep learning has limitations. For example, creating a new painting in the style of Van Gogh by having a computer learn from his paintings is a daunting task [3, 4]. This is where generative adversarial networks (GANs) come in. Proposed by Goodfellow et al [5]. in 2014, GANs were a groundbreaking concept in the field of artificial intelligence. GANs are considered by many researchers to be the most exciting idea in machine learning in the past decade [6, 7].\n",
    "The basic idea of GANs stems from the binary zero-sum game. The model consists of two competing parts: the generative model and the discriminative model. The generative model aims to produce data that is similar to real data by capturing the potential distribution of real data samples, while the discriminative model tries to correctly judge whether the input data comes from the real data or the generative model. In order to win this game, both models need to constantly optimize their abilities to generate and discriminate data. Once the discriminative model can no longer identify the data source correctly, the generative model is believed to have learned the real data distribution, and both models have reached the Nash equilibrium [4, 8, 9].\n",
    "GAN has become a highly discussed topic in machine learning, and has achieved significant improvements in computer vision tasks, including image processing [10], image style transfer [11], classification [12], and image generation [13]. Many variants of GAN models have been proposed in different fields, making it one of the most active algorithms in deep learning.\n",
    "\n",
    "## GAN Network Structure\n",
    "\n",
    "The GAN architecture consists of two networks, namely the generator (G) and the discriminator (D), which are typically implemented as deep neural networks serving as implicit function expressions [14, 15]. The model structure of GAN is depicted in Figure 1, where G is responsible for learning the data distribution from actual samples and mapping it to a new space. The generated data is represented as G(z), with a corresponding distribution pg(z). The primary objective of GAN is to make pg(z) resemble the distribution of the training samples, pr(x). The input to D can either be real data x or generated data G(z), and the output of D is either a probability or a scalar that predicts whether the input to D originates from the real distribution [3].\n",
    "\n",
    "<img src=\"https://drive.google.com/uc?export=view&id=1FJAzRnhBhVD2ILPeI7mJmYRT9YLD7ubt\" width=\"820\">\n",
    "\n",
    "\n",
    "<!-- <img src=\"https://lh4.googleusercontent.com/r9o_j0_nSS_UEaoBLsPCxB92iyZaxaSB56nKbscr03Tq-bhiSfggqzmy6KAy4RDwcuW3q7oC9wBLbLDg4-DVUOQ16J4uQdPUxMMFDzpM8cS1hTu0jLYo3sZ0M24OKKTRsYN7hNyJIJ1YZpaoog\" width=\"820\"> -->\n",
    "\n",
    "\n",
    "1. The Generator: G utilizes random variables z drawn from the prior distribution, and maps them through a neural network to create pseudo-sample distributions G(z), which is essentially an upsampling process. The input z usually consists of Gaussian noise or a random variable in the latent space. During GAN training, the parameters of G and D are iteratively updated. When G is being trained, the parameters of D remain fixed. The data produced by G is labeled as fake and fed into D. The error between the output of the discriminator D(G(z)) and the sample label is calculated, and the error backpropagation algorithm is used to update the parameters of G. Input variables in G are subjected to minimal constraints and can be inputted to both the first and last layers. Noise can be added to hidden layers in the form of either summation product or mosaic. GAN doesn't impose any limitations on the input dimension of z, which is typically a 100-dimensional vector. Additionally, G must be differentiable because the feedback passed through the discriminator returns gradients to update the parameters of both G and D.\n",
    "\n",
    "2. The Discriminator: The purpose of discriminator D is to distinguish whether the input comes from a genuine sample and provide a feedback mechanism that fine-tunes weight parameters of G. When the input is a real sample x, D's output approaches 1, but it approaches 0 when the input is not real. During training, while G remains constant, D is trained to distinguish between the positive sample x from the actual dataset and the negative sample G(z) created by the generator. Both samples are fed into D, and the output along with sample labels are used to calculate the error. Finally, the error backpropagation algorithm is employed to update the discriminator's parameters.\n",
    "\n",
    "## Hyperparameters Selection\n",
    "As it is apparent, there exists lots of hyperparameters in GANs that should be tuned carefully including: learning rate, activation layer, batch size, number of epochs, loss functions, regularization techniques. Slight changes in all these parameters may results in different output results. Therefore, it is important to tune and find the best set of parameters in order to have a well-trained model. One of the important hyperparameters for GANs is learning rate that can greatly affect the model’s performance. Setting an optimal value depends on the architecture, dataset, and training procedure used. By tuning this parameter, the learning rate of 0.0002 is found good enough for training our model.\n",
    "\n",
    "## Loss Function\n",
    "The discriminator loss is calculated as the difference between the probability of correctly classifying a real sample and the probability of incorrectly classifying a generated sample as real. The objective of the discriminator is to maximize this loss while the objective of the generator is to minimize this loss. Therefore, the loss function of GAN can be expressed as a min-max game between the generator and discriminator, where the generator tries to minimize the discriminator's ability to distinguish between the generated samples and the real samples, and the discriminator tries to maximize its ability to do so [4, 14]. In general, the loss function of GAN can be described as:\n",
    "\n",
    "<img src=\"https://encrypted-tbn0.gstatic.com/images?q=tbn:ANd9GcSjzzvB566jDLAONGQ3lbgQwJ3PxS0vJInF0Ob4gjPVLEdaCtrc-UX55Jk26wBi7GKSxQ&usqp=CAU\" width=\"820\">\n",
    "\n",
    "## Different GAN Types\n",
    "Several types of GAN have been developed in the literature including:\n",
    "\n",
    "1. Vanilla GANs: This is the original GAN architecture proposed by Ian Goodfellow in 2014. It consists of a generator network that generates fake data and a discriminator network that distinguishes between the fake data and real data[16].\n",
    "2. Conditional GANs: This type of GAN allows for the generation of specific types of data. A conditional GAN takes additional input, such as class labels or image descriptions, to condition the generator on a specific type of data[17].\n",
    "3. Wasserstein GANs (WGANs): WGANs use a different loss function than traditional GANs, called the Wasserstein distance, which helps to stabilize training and generate higher-quality images[18].\n",
    "4. CycleGANs: CycleGANs are used for image-to-image translation, where the goal is to convert an image from one domain to another. The generator in a CycleGAN learns to translate images from one domain to another while the discriminator tries to distinguish between the translated images and real images[19].\n",
    "5. Progressive GANs: This type of GAN generates high-resolution images in a progressive manner by adding layers to the generator and discriminator networks[20].\n"
   ]
  },
  {
   "cell_type": "code",
   "execution_count": 1,
   "metadata": {
    "id": "1T0yTUQR9asH"
   },
   "outputs": [],
   "source": [
    "# pip install opencv-python   we need to install all the packages that are not in our computer"
   ]
  },
  {
   "cell_type": "code",
   "execution_count": 2,
   "metadata": {
    "id": "jAf3kf8X9asH"
   },
   "outputs": [],
   "source": [
    "import torch\n",
    "import torchvision\n",
    "from torchvision.transforms import ToTensor, Normalize, Compose\n",
    "from torchvision.datasets import MNIST\n",
    "import torch.nn as nn\n",
    "from torch.utils.data import DataLoader\n",
    "from IPython.display import Image\n",
    "from torchvision.utils import save_image\n",
    "import os\n",
    "import cv2\n",
    "from IPython.display import FileLink\n",
    "import matplotlib.pyplot as plt\n",
    "%matplotlib inline\n",
    "\n",
    "# Try to use GPU if possible\n",
    "device = torch.device('cuda' if torch.cuda.is_available() else 'cpu')"
   ]
  },
  {
   "cell_type": "code",
   "execution_count": 3,
   "metadata": {
    "id": "vfbQWNezHQ5m"
   },
   "outputs": [],
   "source": [
    "batch_size = 100\n",
    "latent_size = 100\n",
    "num_epochs = 100"
   ]
  },
  {
   "cell_type": "code",
   "execution_count": 4,
   "metadata": {
    "colab": {
     "base_uri": "https://localhost:8080/",
     "height": 443,
     "referenced_widgets": [
      "18febfa999444130acaaa44dcd1cc558",
      "ceba11e2553240d6a32c3dcf7f34ca5b",
      "2083f09189624eeea82e8f2f87ea5511",
      "381c69e3021941d2b5b539381c37a8c3",
      "e2ec16b501af430daa72cf72eca00fa7",
      "c361cfe23671475a887335815f773e09",
      "b00223236383467cbe886d3f6ec44b1a",
      "163ff7c478954e3082326c076babcf29",
      "2e1b972944ed419981084bc2fdef6dd6",
      "d9e7928605a84aa6ac97432f964d7f02",
      "a68e454a0a41424987bbf29b6805f363",
      "cf05651a471c4211a1bcffe264bf8cad",
      "3fae60532b124b91ba0467dcf85ee940",
      "6b311c7de3854717a0a31861c4903147",
      "e1dfc14a7e4444aa8db32a8b0bf968f9",
      "d5948ac6cd274fabbc65b171e318d985",
      "2f0a1b9c8fa74e22982b374bda797512",
      "4ed1d90cc2da4337a1582ae79809f37d",
      "0de43443c47a429a80fff876fe4a346d",
      "42dc50cad0b940f7893636a76805a3e3",
      "52526a47602f4fa28d4a82c99a22638e",
      "539999f9e68448d196bcb8bc65dbf96e",
      "bb2a4baed73b4d4fa0e8e3e43a75d44d",
      "6781ff91dda241f5b4045865508a7a3e",
      "02250478314d44bb987b5454af5c91a3",
      "33d9e8e1acff4df9b3b8f47c1af70552",
      "5ee46884fc4e420c9b737968736e84d3",
      "be9b274aa9bb4425bdf0659c403d46f9",
      "b24b08edb3db4a0ba3e8f6c6c0142947",
      "0a098ebc73ff4cfaa7db4a3761dcc14f",
      "63712e13f0594c5f948caba1756e4a30",
      "bbc0cc1b93154586abc84b3e0d7a622d",
      "6065077bacba4dc6822f4f922ee72c49",
      "28bc818aedf0414b89b2e31f1f1c248c",
      "cf122b78563643a6b91f2120ceecd272",
      "f4a8e550948c42ddb054eb5d63f70cf6",
      "eca0d533702d4d759f42bf7bb1c5c1b1",
      "23bb95a94e6f45a9bf46e7290522bcb5",
      "fe4d212534bc42b4b5a1c26bb6ba659a",
      "984e4c0d634d4773ac8c31d4a2e4991c",
      "c45c30e82e7b4437a95d656403b94954",
      "ebd95008e9334b159c0be4ca7848da30",
      "ab3395166a9641039a04141404a71595",
      "6a9789c3c68142c6bfba3259ba4c543f"
     ]
    },
    "id": "4Nr9QRylHQ5m",
    "outputId": "a4774ed8-ee97-4cd1-c8dc-a954bdd0e9e2"
   },
   "outputs": [
    {
     "name": "stdout",
     "output_type": "stream",
     "text": [
      "Downloading http://yann.lecun.com/exdb/mnist/train-images-idx3-ubyte.gz\n",
      "Downloading http://yann.lecun.com/exdb/mnist/train-images-idx3-ubyte.gz to data/MNIST/raw/train-images-idx3-ubyte.gz\n"
     ]
    },
    {
     "data": {
      "application/vnd.jupyter.widget-view+json": {
       "model_id": "18febfa999444130acaaa44dcd1cc558",
       "version_major": 2,
       "version_minor": 0
      },
      "text/plain": [
       "  0%|          | 0/9912422 [00:00<?, ?it/s]"
      ]
     },
     "metadata": {},
     "output_type": "display_data"
    },
    {
     "name": "stdout",
     "output_type": "stream",
     "text": [
      "Extracting data/MNIST/raw/train-images-idx3-ubyte.gz to data/MNIST/raw\n",
      "\n",
      "Downloading http://yann.lecun.com/exdb/mnist/train-labels-idx1-ubyte.gz\n",
      "Downloading http://yann.lecun.com/exdb/mnist/train-labels-idx1-ubyte.gz to data/MNIST/raw/train-labels-idx1-ubyte.gz\n"
     ]
    },
    {
     "data": {
      "application/vnd.jupyter.widget-view+json": {
       "model_id": "cf05651a471c4211a1bcffe264bf8cad",
       "version_major": 2,
       "version_minor": 0
      },
      "text/plain": [
       "  0%|          | 0/28881 [00:00<?, ?it/s]"
      ]
     },
     "metadata": {},
     "output_type": "display_data"
    },
    {
     "name": "stdout",
     "output_type": "stream",
     "text": [
      "Extracting data/MNIST/raw/train-labels-idx1-ubyte.gz to data/MNIST/raw\n",
      "\n",
      "Downloading http://yann.lecun.com/exdb/mnist/t10k-images-idx3-ubyte.gz\n",
      "Downloading http://yann.lecun.com/exdb/mnist/t10k-images-idx3-ubyte.gz to data/MNIST/raw/t10k-images-idx3-ubyte.gz\n"
     ]
    },
    {
     "data": {
      "application/vnd.jupyter.widget-view+json": {
       "model_id": "bb2a4baed73b4d4fa0e8e3e43a75d44d",
       "version_major": 2,
       "version_minor": 0
      },
      "text/plain": [
       "  0%|          | 0/1648877 [00:00<?, ?it/s]"
      ]
     },
     "metadata": {},
     "output_type": "display_data"
    },
    {
     "name": "stdout",
     "output_type": "stream",
     "text": [
      "Extracting data/MNIST/raw/t10k-images-idx3-ubyte.gz to data/MNIST/raw\n",
      "\n",
      "Downloading http://yann.lecun.com/exdb/mnist/t10k-labels-idx1-ubyte.gz\n",
      "Downloading http://yann.lecun.com/exdb/mnist/t10k-labels-idx1-ubyte.gz to data/MNIST/raw/t10k-labels-idx1-ubyte.gz\n"
     ]
    },
    {
     "data": {
      "application/vnd.jupyter.widget-view+json": {
       "model_id": "28bc818aedf0414b89b2e31f1f1c248c",
       "version_major": 2,
       "version_minor": 0
      },
      "text/plain": [
       "  0%|          | 0/4542 [00:00<?, ?it/s]"
      ]
     },
     "metadata": {},
     "output_type": "display_data"
    },
    {
     "name": "stdout",
     "output_type": "stream",
     "text": [
      "Extracting data/MNIST/raw/t10k-labels-idx1-ubyte.gz to data/MNIST/raw\n",
      "\n"
     ]
    }
   ],
   "source": [
    "mnist_dataset = MNIST(root='data', train=True, download=True, transform=ToTensor())"
   ]
  },
  {
   "cell_type": "markdown",
   "metadata": {
    "id": "TL6I5VMQ9asI"
   },
   "source": [
    "## Load Data and Data Inspection\n",
    "\n",
    "Initially, we load the MNIST dataset and inspect a sample image using matplotlib.\n",
    "\n",
    "\n",
    "In deep learning tasks, **min**, **max**, **mean**, and **std** refer to the statistical values calculated on the input data used for training, validation, and testing of deep neural networks.\n",
    "\n",
    "\n",
    "\n",
    "*   **Minimum (min):** The smallest value in a set of data.\n",
    "*   **Maximum (max):** The largest value in a set of data.\n",
    "*   **Mean:** The average value of a set of data. In deep learning, the mean is typically subtracted from each feature or pixel in the input data to center the data around zero.\n",
    "*   **Standard deviation (std):** A measure of the spread of data around the mean. In deep learning, the std is often used to normalize the input data to have a unit variance.\n",
    "\n",
    "These values are commonly used in data preprocessing and normalization techniques to scale and transform the input data to a suitable format for deep learning models. By preprocessing the data in this way, the deep learning model can learn more efficiently and effectively. Therefore, this is good practice to inspect these statistical values before diving into implementation."
   ]
  },
  {
   "cell_type": "code",
   "execution_count": 5,
   "metadata": {
    "colab": {
     "base_uri": "https://localhost:8080/",
     "height": 404
    },
    "id": "TRKLJaWp9asI",
    "outputId": "4f738b04-e634-4d98-f957-1154d1db1c5a"
   },
   "outputs": [
    {
     "name": "stdout",
     "output_type": "stream",
     "text": [
      "The dataset has 60000 items.\n",
      "The image size is torch.Size([1, 28, 28]) and the number inside it should be 5\n",
      "\n",
      "\n",
      "The min value of dataset is: 0\n",
      "The max value of dataset is: 255\n",
      "The mean value of dataset is: 33.31842041015625\n",
      "The STD of dataset is: 78.56748962402344\n"
     ]
    },
    {
     "data": {
      "image/png": "[encoded data removed]",
      "text/plain": [
       "<Figure size 432x288 with 1 Axes>"
      ]
     },
     "metadata": {
      "needs_background": "light"
     },
     "output_type": "display_data"
    }
   ],
   "source": [
    "print(f\"The dataset has {len(mnist_dataset)} items.\")\n",
    "sample_image, sample_label = mnist_dataset[0]\n",
    "print(f\"The image size is {sample_image.shape} and the number inside it should be {sample_label}\\n\\n\")\n",
    "plt.imshow(sample_image[0], cmap=\"gray\")\n",
    "\n",
    "print(\n",
    "    f\"The min value of dataset is: {mnist_dataset.data.min()}\\n\"\n",
    "    f\"The max value of dataset is: {mnist_dataset.data.max()}\\n\"\n",
    "    f\"The mean value of dataset is: {mnist_dataset.data.float().mean()}\\n\"\n",
    "    f\"The STD of dataset is: {mnist_dataset.data.float().std()}\"\n",
    ")"
   ]
  },
  {
   "cell_type": "markdown",
   "metadata": {
    "id": "Drtx4crI9asI"
   },
   "source": [
    "In GANs, scaling the data to the range of -1 to 1 can be beneficial because GANs often use activation functions like tanh, which have a range of -1 to 1. Moreover, scaling the data to a smaller range can help prevent vanishing or exploding gradients. Additionally, by scaling the data to a common range, we can help ensure that the discriminator is better able to distinguish between real and fake samples, which can lead to better performance overall. Consequently, in the next cell, the data is shifted to -1 to 1 range.\n"
   ]
  },
  {
   "cell_type": "code",
   "execution_count": 6,
   "metadata": {
    "id": "SJSGz3IG9asI"
   },
   "outputs": [],
   "source": [
    "data = mnist_dataset.data.float() / 255.0\n",
    "data_scaled = data.mul(2).sub(1)\n",
    "labels = mnist_dataset.targets\n",
    "dataset = torch.utils.data.TensorDataset(data_scaled.view(-1,1,28,28), labels)\n",
    "data_loader = DataLoader(dataset, batch_size=100, shuffle=True)"
   ]
  },
  {
   "cell_type": "markdown",
   "metadata": {
    "id": "sah8p06_SD9m"
   },
   "source": [
    "New statistical values are:"
   ]
  },
  {
   "cell_type": "code",
   "execution_count": 7,
   "metadata": {
    "colab": {
     "base_uri": "https://localhost:8080/",
     "height": 0
    },
    "id": "JyUw23dIScSh",
    "outputId": "db2162eb-3d06-4b15-a26e-07bf74c9c438"
   },
   "outputs": [
    {
     "name": "stdout",
     "output_type": "stream",
     "text": [
      "The min value of dataset is: -1.0\n",
      "The max value of dataset is: 1.0\n",
      "The mean value of dataset is: -0.7386789917945862\n",
      "The STD of dataset is: 0.6162156462669373\n",
      "A snapshot of a scaled sample: \n",
      "\n",
      "tensor([[ 0.2235, -0.1608,  0.9843,  0.9843,  0.6078, -0.9137],\n",
      "        [-0.8902, -0.9922,  0.2078,  0.9843, -0.2941, -1.0000],\n",
      "        [-1.0000, -1.0000,  0.0902,  0.9843,  0.4902, -0.9843],\n",
      "        [-1.0000, -1.0000, -0.9137,  0.4902,  0.9843, -0.4510],\n",
      "        [-1.0000, -1.0000, -1.0000, -0.7255,  0.8902,  0.7647],\n",
      "        [-1.0000, -1.0000, -1.0000, -1.0000, -0.3647,  0.8824]])\n"
     ]
    }
   ],
   "source": [
    "print(\n",
    "    f\"The min value of dataset is: {data_scaled.min()}\\n\"\n",
    "    f\"The max value of dataset is: {data_scaled.max()}\\n\"\n",
    "    f\"The mean value of dataset is: {data_scaled.float().mean()}\\n\"\n",
    "    f\"The STD of dataset is: {data_scaled.float().std()}\"\n",
    ")\n",
    "\n",
    "# A snapshot of a scaled sample \n",
    "\n",
    "print(f\"A snapshot of a scaled sample: \\n\\n{data_scaled[0][9:15, 9:15]}\")"
   ]
  },
  {
   "cell_type": "markdown",
   "metadata": {
    "id": "NB5MfeHJ9asM"
   },
   "source": [
    "## Discriminator Network\n",
    "\n",
    "This is a PyTorch implementation of a discriminator neural network that can be used in a GAN (Generative Adversarial Network) architecture. The purpose of the discriminator is to distinguish between real and generated/fake images produced by the generator network in the GAN. Below we explain the code line by line:\n",
    "\n",
    "1- We defines the Discriminator class as a subclass of the PyTorch nn.Module class, which is a base class for all neural network modules in PyTorch.\n",
    "\n",
    "2- We define the constructor method for the Discriminator class. It initializes the class with two arguments: in_channels and features. in_channels specifies the number of input channels of the images that the discriminator will receive (defaulting to 1), while features is a list that specifies the number of output channels of each convolutional layer (defaulting to [64, 64]).\n",
    "\n",
    "3- We call the constructor of the parent class nn.Module to properly initialize the Discriminator class as a module.\n",
    "\n",
    "4- We define two convolutional layers for the discriminator. conv1 is the first layer and takes in the input tensor with in_channels input channels and produces features[0] output channels. conv2 is the second layer and takes in the output tensor of conv1 with features[0] input channels and produces features[1] output channels. The kernel_size, stride, and padding parameters specify the size of the convolutional kernel, the stride of the convolution, and the amount of padding to add to the input tensor, respectively.\n",
    "\n",
    "5- We define the activation functions to be used after each convolutional layer. leaky_relu is a leaky ReLU activation function with a negative slope of 0.2, which is a modification of the ReLU activation function that helps prevent the vanishing gradient problem. dropout is a regularization technique that randomly sets a fraction of the input elements to zero during training to prevent overfitting.\n",
    "\n",
    "6- We define the final fully connected layer of the discriminator. It takes in the output of the second convolutional layer (which has dimensions features[1] x 7 x 7, assuming the input image has dimensions 28 x 28) and produces a single output value. The number of input features to the fully connected layer is calculated as features[1]*7*7.\n",
    "\n",
    "7- We define the forward method of the Discriminator class, which defines how data is passed through the network.\n",
    "\n",
    "8- We pass the input tensor x through the two convolutional layers, followed by the leaky ReLU activation function and dropout regularization.\n",
    "\n",
    "9- The output tensor is then flattened to a 1D tensor using x.view(x.shape[0], -1), where x.shape[0] is the batch size, and -1 specifies that the size of the second dimension should be inferred based on the size of the flattened tensor. The flattened tensor is then passed through the fully connected layer and the output is passed through a sigmoid activation function to produce a single output value between 0 and 1, representing the probability that the input image is real (as opposed to being generated by the generator network)."
   ]
  },
  {
   "cell_type": "code",
   "execution_count": 8,
   "metadata": {
    "id": "fySxG-va9asN"
   },
   "outputs": [],
   "source": [
    "class Discriminator(nn.Module):\n",
    "    def __init__(self, in_channels=1, features=[64, 64]):\n",
    "        super(Discriminator, self).__init__()\n",
    "        self.conv1 = nn.Conv2d(in_channels, features[0], kernel_size=3, stride=2, padding=1)\n",
    "        self.conv2 = nn.Conv2d(features[0], features[1], kernel_size=3, stride=2, padding=1)\n",
    "        self.leaky_relu = nn.LeakyReLU(0.2)\n",
    "        self.dropout = nn.Dropout(0.4)\n",
    "        self.fc = nn.Linear(features[1]*7*7, 1)\n",
    "        \n",
    "    def forward(self, x):\n",
    "        x = self.conv1(x)\n",
    "        x = self.leaky_relu(x)\n",
    "        x = self.dropout(x)\n",
    "        x = self.conv2(x)\n",
    "        x = self.leaky_relu(x)\n",
    "        x = self.dropout(x)\n",
    "        x = x.view(x.shape[0], -1)\n",
    "        x = self.fc(x)\n",
    "        return torch.sigmoid(x)"
   ]
  },
  {
   "cell_type": "markdown",
   "metadata": {
    "id": "qWLvfCvw9asN"
   },
   "source": [
    "The Leaky ReLU activation function is often used in deep learning models, such as the discriminator network shown in the code, because it helps to prevent the problem of \"dying ReLUs\" during training.\n",
    "\n",
    "During the training process, some neurons in a deep neural network may become \"dead\" and stop responding to any input, due to a large negative bias that causes their output to be always zero. This is a common problem when using the standard ReLU activation function, especially when the learning rate is set too high.\n",
    "\n",
    "The Leaky ReLU activation function addresses this issue by introducing a small slope (typically 0.2 or 0.01) for negative input values, instead of setting them to zero. This ensures that even if a neuron has a large negative bias, it can still respond to inputs with negative values, which can help to keep the neuron active and improve the model's overall performance.\n",
    "\n",
    "In the case of the discriminator network shown in the code, the Leaky ReLU activation function is used after each convolutional layer, to introduce non-linearity and help the model learn to discriminate between real and fake images. The small negative slope helps to prevent the problem of dead neurons and ensures that the model can learn from negative input values as well as positive ones.\n",
    "\n",
    "<img src=\"https://lh4.googleusercontent.com/r9o_j0_nSS_UEaoBLsPCxB92iyZaxaSB56nKbscr03Tq-bhiSfggqzmy6KAy4RDwcuW3q7oC9wBLbLDg4-DVUOQ16J4uQdPUxMMFDzpM8cS1hTu0jLYo3sZ0M24OKKTRsYN7hNyJIJ1YZpaoog\" width=\"820\">\n",
    "\n",
    "\n",
    ">  Different from the regular ReLU function, Leaky ReLU allows the pass of a small gradient signal for negative values. As a result, it makes the gradients from the discriminator flows stronger into the generator. Instead of passing a gradient (slope) of 0 in the back-prop pass, it passes a small negative gradient.  - [Source](https://sthalles.github.io/advanced_gans/)\n"
   ]
  },
  {
   "cell_type": "markdown",
   "metadata": {
    "id": "YXFZ3KX39asN"
   },
   "source": [
    "## Generator Network\n",
    "\n",
    "This code defines a PyTorch module for a Generative Adversarial Network (GAN) generator. The GAN is a type of neural network architecture that consists of two models: a generator and a discriminator. The generator takes random noise as input and generates samples that are intended to be similar to the real data. The discriminator takes both real and generated samples as input and tries to distinguish between them. During training, the generator tries to generate samples that are indistinguishable from the real data, while the discriminator tries to correctly classify the samples as real or generated. Below we explain the code line by line:\n",
    "\n",
    "1- We define a Generator class that inherits from nn.Module. The constructor takes two arguments: latent_dim, which specifies the size of the input noise vector, and features, which is a list of integers that specifies the number of output features in each layer. The default value for features is [128, 128].\n",
    "\n",
    "2- We call the __init__() method of the superclass (nn.Module) to initialize the Generator object.\n",
    "\n",
    "3- We create a fully connected layer that maps the input noise vector to a tensor with shape (features[0]*7*7,). The nn.Linear class takes two arguments: the size of the input tensor (latent_dim), and the size of the output tensor (features[0]*7*7).\n",
    "\n",
    "4- We create a leaky ReLU activation function with a negative slope of 0.2, which is used in the generator network.\n",
    "\n",
    "5- We create a transposed convolutional layer that upsamples the tensor from the output of the fully connected layer. The nn.ConvTranspose2d class takes five arguments: the number of input channels (features[0]), the number of output channels (features[1]), the size of the kernel (kernel_size=4), the stride of the kernel (stride=2), and the amount of padding to add to the edges of the input tensor (padding=1).\n",
    "\n",
    "6- We create a second transposed convolutional layer that upsamples the tensor from the output of the first convolutional layer. This layer has a single output channel, which represents the grayscale pixel value of the generated image.\n",
    "\n",
    "7- We define the forward method for the Generator class, which takes an input tensor x and computes the output tensor of the network.\n",
    "\n",
    "8- We apply the fully connected layer to the input tensor.\n",
    "\n",
    "9- We apply the leaky ReLU activation function to the output of the fully connected layer.\n",
    "\n",
    "10- We reshape the output tensor from a 1D tensor to a 4D tensor with shape (batch_size, features[0], 7, 7).\n",
    "\n",
    "11- We apply the first transposed convolutional layer to the reshaped tensor.\n",
    "\n",
    "12- We apply the leaky ReLU activation function to the output of the first convolutional layer.\n",
    "\n",
    "13- We apply the second transposed convolutional layer to the output of the first convolutional layer.\n",
    "\n",
    "14- We apply the hyperbolic tangent activation function (torch.tanh) to the tensor x to map the output to the range [-1, 1], which is the same range as the real images in the dataset, and return the resulting tensor.\n",
    "\n"
   ]
  },
  {
   "cell_type": "code",
   "execution_count": 9,
   "metadata": {
    "id": "x1XNH-aB9asO"
   },
   "outputs": [],
   "source": [
    "class Generator(nn.Module):\n",
    "    def __init__(self, latent_dim, features=[128, 128]):\n",
    "        super(Generator, self).__init__()\n",
    "        self.fc = nn.Linear(latent_dim, features[0]*7*7)\n",
    "        self.leaky_relu = nn.LeakyReLU(0.2)\n",
    "        self.conv1 = nn.ConvTranspose2d(features[0], features[1], kernel_size=4, stride=2, padding=1)\n",
    "        self.conv2 = nn.ConvTranspose2d(features[1], 1, kernel_size=4, stride=2, padding=1)\n",
    "        \n",
    "    def forward(self, x):\n",
    "        x = self.fc(x)\n",
    "        x = self.leaky_relu(x)\n",
    "        x = x.view(-1, 128, 7, 7)\n",
    "        x = self.conv1(x)\n",
    "        x = self.leaky_relu(x)\n",
    "        x = self.conv2(x)\n",
    "        return torch.tanh(x)"
   ]
  },
  {
   "cell_type": "markdown",
   "metadata": {
    "id": "8cLTyXSv9asO"
   },
   "source": [
    "We use the TanH activation function for the output layer of the generator.\n",
    "\n",
    "<img src=\"https://www.oreilly.com/api/v2/epubs/9781788472173/files/assets/7f566009-af69-4eea-b244-014c5fc4fc19.png\" width=\"820\" >\n",
    "\n",
    "> \"The ReLU activation (Nair & Hinton, 2010) is used in the generator with the exception of the output layer which uses the Tanh function. We observed that using a bounded activation allowed the model to learn more quickly to saturate and cover the color space of the training distribution. Within the discriminator we found the leaky rectified activation (Maas et al., 2013) (Xu et al., 2015) to work well, especially for higher resolution modeling.\" - [Source](https://stackoverflow.com/questions/41489907/generative-adversarial-networks-tanh)\n",
    "\n",
    "\n",
    "Note that since the outputs of the TanH activation lie in the range `[-1,1]`, we have applied the same transformation to the images in the training dataset."
   ]
  },
  {
   "cell_type": "markdown",
   "metadata": {
    "id": "9jQkDP7F-EEj"
   },
   "source": [
    "-- We create an instance of the Discriminator class and assigns it to the variable D. This creates a new object that can be used to classify input images as real or fake.\n",
    "\n",
    "The default constructor arguments for in_channels and features are used, which means that the discriminator expects a grayscale image with a single channel as input, and the feature maps for the convolutional layers have sizes [64, 64]. These default values can be modified by passing in different arguments when creating a new instance of the Discriminator class.\n",
    "\n",
    "After creating the D object, it can be used to classify input images by passing them through the forward method of the discriminator network. For example, D(image) would classify the image tensor image as real or fake.\n",
    "\n",
    "We move the D object, which is an instance of the Discriminator class, to the specified device. The device argument is typically either \"cpu\" or \"cuda\" (for GPUs) and specifies the device where the tensor operations will be executed.\n",
    "\n",
    "Moving the object to the specified device is necessary if the model's parameters and operations are going to be computed on that device. By default, the nn.Module object is created on the CPU, so it needs to be moved to the GPU (or another device) before it can be used for training or inference. The D object will be using the specified device for its operations. Any input tensors that are passed to the D object for classification will also need to be on the same device.\n",
    "\n",
    "\n",
    "-- We initialize a generator model called G with the specified latent size = 100 (i.e., the size of the input noise vector) and default feature sizes of 128.\n",
    "\n",
    "We move the Generator model to the specified device (CPU or GPU) to leverage hardware acceleration during training or inference. If device is set to \"cuda\", the model and associated tensors will be moved to the GPU memory, and if device is set to \"cpu\", the model will remain on the CPU.\n",
    "\n",
    "\n",
    "-- We definine the loss function and the optimizers for both the generator and discriminator models.\n",
    "\n",
    "nn.BCELoss() creates an instance of the binary cross-entropy loss function. It is commonly used in binary classification problems, where the task is to classify an input into one of two classes. In the case of GANs, the discriminator's task is to classify an input image as either real or fake, so the binary cross-entropy loss is a suitable choice for the discriminator.\n",
    "\n",
    "torch.optim.Adam() creates an instance of the Adam optimizer, which is a popular optimization algorithm commonly used for deep learning. We are creating separate Adam optimizers for both the discriminator (D) and the generator (G). The lr argument sets the learning rate for the optimizer, which controls how quickly the model parameters are updated during training. In this case, we set the learning rate to 0.0002, which is a common choice for GANs."
   ]
  },
  {
   "cell_type": "code",
   "execution_count": 10,
   "metadata": {
    "id": "fpLDdTQN9asT"
   },
   "outputs": [],
   "source": [
    "D = Discriminator().to(device)\n",
    "G = Generator(latent_size).to(device)\n",
    "criterion = nn.BCELoss()\n",
    "d_optimizer = torch.optim.Adam(D.parameters(), lr=0.0002)\n",
    "g_optimizer = torch.optim.Adam(G.parameters(), lr=0.0002)"
   ]
  },
  {
   "cell_type": "markdown",
   "metadata": {
    "id": "gIeFWE4O9asT"
   },
   "source": [
    "Since the discriminator is a binary classification model, we can use the binary cross entropy loss function to quantify how well it is able to differentiate between real and generated images.\n",
    "\n",
    "<img src=\"https://chris-said.io/assets/2020_cross_entropy/cross-entropy.png\" width=\"620\" >"
   ]
  },
  {
   "cell_type": "markdown",
   "metadata": {
    "id": "sWY8dqdKHQ5p"
   },
   "source": [
    "We generate an output vector using the generator and view it as an image."
   ]
  },
  {
   "cell_type": "code",
   "execution_count": 11,
   "metadata": {
    "colab": {
     "base_uri": "https://localhost:8080/",
     "height": 282
    },
    "id": "d2bZ1ePtHQ5p",
    "outputId": "77f2043d-8e13-4a94-9a33-e12a65f147f7"
   },
   "outputs": [
    {
     "data": {
      "text/plain": [
       "<matplotlib.image.AxesImage at 0x7f27c67936d0>"
      ]
     },
     "execution_count": 11,
     "metadata": {},
     "output_type": "execute_result"
    },
    {
     "data": {
      "image/png": "[encoded data removed]",
      "text/plain": [
       "<Figure size 432x288 with 1 Axes>"
      ]
     },
     "metadata": {
      "needs_background": "light"
     },
     "output_type": "display_data"
    }
   ],
   "source": [
    "plt.imshow(G(torch.randn(1, latent_size).to(device))[0][0].detach().cpu().numpy(), cmap='gray')"
   ]
  },
  {
   "cell_type": "markdown",
   "metadata": {
    "id": "beri6nU9HQ5p"
   },
   "source": [
    "As one might expect, the output from the generator is basically random noise."
   ]
  },
  {
   "cell_type": "markdown",
   "metadata": {
    "id": "bLiw31Z_9asU"
   },
   "source": [
    "## Discriminator Training"
   ]
  },
  {
   "cell_type": "markdown",
   "metadata": {
    "id": "frPDQBYK9asU"
   },
   "source": [
    "We define helper functions to reset gradients and  train the discriminator."
   ]
  },
  {
   "cell_type": "code",
   "execution_count": 12,
   "metadata": {
    "id": "qDlsVTC39asU"
   },
   "outputs": [],
   "source": [
    "def reset_grad():\n",
    "    # Set the gradients of the discriminator and generator models to zero\n",
    "    d_optimizer.zero_grad()\n",
    "    g_optimizer.zero_grad()\n",
    "\n",
    "def train_discriminator(images):\n",
    "    # Reset the gradients before computing them for the current batch\n",
    "    reset_grad()\n",
    "\n",
    "    # Create labels for the real and fake images\n",
    "    real_labels = torch.ones(batch_size, 1).to(device)\n",
    "    fake_labels = torch.zeros(batch_size, 1).to(device)\n",
    "    \n",
    "    # Compute the loss and scores for the real images\n",
    "    outputs = D(images)\n",
    "    d_loss_real = criterion(outputs, real_labels)\n",
    "    real_score = outputs\n",
    "\n",
    "    # Generate fake images and compute the loss and scores for them\n",
    "    z = torch.randn(batch_size, latent_size).to(device)\n",
    "    fake_images = G(z)\n",
    "    outputs = D(fake_images)\n",
    "    d_loss_fake = criterion(outputs, fake_labels)\n",
    "    fake_score = outputs\n",
    "\n",
    "    # Combine the losses for the real and fake images\n",
    "    d_loss = d_loss_real + d_loss_fake\n",
    "\n",
    "    # Compute the gradients for the discriminator model\n",
    "    d_loss.backward()\n",
    "\n",
    "    # Update the discriminator parameters using the computed gradients\n",
    "    d_optimizer.step()\n",
    "\n",
    "    # Return the loss and scores for the real and fake images\n",
    "    return d_loss, real_score, fake_score"
   ]
  },
  {
   "cell_type": "markdown",
   "metadata": {
    "id": "6o7ZZ6KB9asV"
   },
   "source": [
    "Here are the steps involved in training the discriminator.\n",
    "\n",
    "- We expect the discriminator to output 1 if the image was picked from the real MNIST dataset, and 0 if it was generated. \n",
    "\n",
    "- We first pass a batch of real images, and compute the loss, setting the target labels to 1. \n",
    "\n",
    "- Then, we generate a batch of fake images using the generator, pass them into the discriminator, and compute the loss, setting the target labels to 0. \n",
    "\n",
    "- Finally we add the two losses and use the overall loss to perform gradient descent to adjust the weights of the discriminator.\n",
    "\n",
    "It's important to note that we don't change the weights of the generator model while training the discriminator (`d_optimizer` only affects the `D.parameters()`)"
   ]
  },
  {
   "cell_type": "markdown",
   "metadata": {
    "id": "TJ7Qery99asV"
   },
   "source": [
    "## Generator Training\n",
    "\n",
    "Since the outputs of the generator are images, it's not obvious how we can train the generator. This is where we employ a rather elegant trick, which is to use the discriminator as a part of the loss function. Here's how it works:\n",
    "\n",
    "- We generate a batch of images using the generator, pass the into the discriminator.\n",
    "\n",
    "- We calculate the loss by setting the target labels to 1 i.e. real. We do this because the generator's objective is to \"fool\" the discriminator. \n",
    "\n",
    "- We use the loss to perform gradient descent i.e. change the weights of the generator, so it gets better at generating real-like images.\n",
    "\n",
    "Here's what this looks like in code."
   ]
  },
  {
   "cell_type": "code",
   "execution_count": 13,
   "metadata": {
    "id": "zYzCWbLa9asV"
   },
   "outputs": [],
   "source": [
    "def train_generator():\n",
    "    # Reset the gradients before computing them for the current batch\n",
    "    reset_grad()\n",
    "    # Generate fake images and calculate loss\n",
    "    z = torch.randn(batch_size, latent_size).to(device)\n",
    "    fake_images = G(z)\n",
    "    labels = torch.ones(batch_size, 1).to(device)\n",
    "    g_loss = criterion(D(fake_images), labels)\n",
    "    \n",
    "    # Backpropagate the loss and optimize the generator parameters\n",
    "    g_loss.backward()\n",
    "    g_optimizer.step()\n",
    "    # Return the loss and the fake images\n",
    "    return g_loss, fake_images"
   ]
  },
  {
   "cell_type": "markdown",
   "metadata": {
    "id": "enBERHMM9asV"
   },
   "source": [
    "## Training the Model\n",
    "\n",
    "We create a directory where we can save intermediate outputs from the generator to visually inspect the progress of the model"
   ]
  },
  {
   "cell_type": "code",
   "execution_count": 14,
   "metadata": {
    "id": "9AzARSlR9asV"
   },
   "outputs": [],
   "source": [
    "# Check if the 'samples' directory exists; if not, create it\n",
    "sample_dir = 'samples'\n",
    "if not os.path.exists(sample_dir):\n",
    "    os.makedirs(sample_dir)"
   ]
  },
  {
   "cell_type": "markdown",
   "metadata": {
    "id": "3EPkhIJf9asW"
   },
   "source": [
    "We save a batch of real images that we can use for visual comparision while looking at the generated images."
   ]
  },
  {
   "cell_type": "code",
   "execution_count": 15,
   "metadata": {
    "colab": {
     "base_uri": "https://localhost:8080/",
     "height": 319
    },
    "id": "GTagfQpS9asW",
    "outputId": "d26fed7a-21fe-4382-f65e-8edd9fc8fd64"
   },
   "outputs": [
    {
     "data": {
      "image/png": "[encoded data removed]",
      "text/plain": [
       "<IPython.core.display.Image object>"
      ]
     },
     "execution_count": 15,
     "metadata": {},
     "output_type": "execute_result"
    }
   ],
   "source": [
    "# Save some real images\n",
    "for images, _ in data_loader:\n",
    "    # Reshape the images tensor to have shape (batch_size, 1, 28, 28)\n",
    "    images = images.reshape(images.size(0), 1, 28, 28)\n",
    "    # Save the images as a grid to a file named 'real_images.png'\n",
    "    save_image(images, os.path.join(sample_dir, 'real_images.png'), nrow=10)\n",
    "    # Break out of the loop after processing the first batch\n",
    "    break\n",
    "# Display the saved image using the Image() function from the PIL library  \n",
    "Image(os.path.join(sample_dir, 'real_images.png'))"
   ]
  },
  {
   "cell_type": "markdown",
   "metadata": {
    "id": "N8i791AL9asW"
   },
   "source": [
    "We'll also define a helper function to save a batch of generated images to disk at the end of every epoch. We'll use a fixed set of input vectors to the generator to see how the individual generated images evolve over time as we train the model."
   ]
  },
  {
   "cell_type": "code",
   "execution_count": 16,
   "metadata": {
    "colab": {
     "base_uri": "https://localhost:8080/",
     "height": 336
    },
    "id": "kE1jZ11c9asW",
    "outputId": "e22c7fe9-c022-40c5-8517-7366b65f40e0"
   },
   "outputs": [
    {
     "name": "stdout",
     "output_type": "stream",
     "text": [
      "Saving fake_images-0000.png\n"
     ]
    },
    {
     "data": {
      "image/png": "[encoded data removed]",
      "text/plain": [
       "<IPython.core.display.Image object>"
      ]
     },
     "execution_count": 16,
     "metadata": {},
     "output_type": "execute_result"
    }
   ],
   "source": [
    "# Generate a batch of random noise vectors\n",
    "sample_vectors = torch.randn(batch_size, latent_size).to(device)\n",
    "# Define a function to save fake images to a file\n",
    "def save_fake_images(index):\n",
    "    # Generate fake images from the random noise vectors\n",
    "    fake_images = G(sample_vectors)\n",
    "    # Reshape the fake images tensor to have shape (batch_size, 1, 28, 28)\n",
    "    fake_images = fake_images.reshape(fake_images.size(0), 1, 28, 28)\n",
    "    # Create a filename for the fake images based on the index\n",
    "    fake_fname = 'fake_images-{0:0=4d}.png'.format(index)\n",
    "    # Print a message indicating that the fake images are being saved\n",
    "    print('Saving', fake_fname)\n",
    "    # Save the fake images as a grid to a file\n",
    "    save_image(fake_images, os.path.join(sample_dir, fake_fname), nrow=10)\n",
    "    \n",
    "# Call the save_fake_images() function to save the first set of fake images\n",
    "save_fake_images(0)\n",
    "# Display the first saved fake image using the Image() function from the PIL library\n",
    "Image(os.path.join(sample_dir, 'fake_images-0000.png'))"
   ]
  },
  {
   "cell_type": "markdown",
   "metadata": {
    "id": "VbocoLsp9asW"
   },
   "source": [
    "In each epoch, we train the discriminator first, and then the generator. "
   ]
  },
  {
   "cell_type": "code",
   "execution_count": 17,
   "metadata": {
    "colab": {
     "base_uri": "https://localhost:8080/",
     "height": 0
    },
    "id": "o8h6_-Ne9asW",
    "outputId": "a3e72c99-1dd9-4079-c560-6a8013d7fbe2",
    "scrolled": true
   },
   "outputs": [
    {
     "name": "stdout",
     "output_type": "stream",
     "text": [
      "Epoch [0/100], Step [200/600], d_loss: 0.0257, g_loss: 3.7957, D(x): 0.99, D(G(z)): 0.01\n",
      "Epoch [0/100], Step [400/600], d_loss: 0.6029, g_loss: 1.5267, D(x): 0.77, D(G(z)): 0.25\n",
      "Epoch [0/100], Step [600/600], d_loss: 1.0357, g_loss: 1.1988, D(x): 0.77, D(G(z)): 0.40\n",
      "Saving fake_images-0001.png\n",
      "Epoch [1/100], Step [200/600], d_loss: 0.8768, g_loss: 1.2883, D(x): 0.66, D(G(z)): 0.30\n",
      "Epoch [1/100], Step [400/600], d_loss: 1.2234, g_loss: 1.1366, D(x): 0.57, D(G(z)): 0.38\n",
      "Epoch [1/100], Step [600/600], d_loss: 1.3010, g_loss: 0.9345, D(x): 0.60, D(G(z)): 0.45\n",
      "Saving fake_images-0002.png\n",
      "Epoch [2/100], Step [200/600], d_loss: 1.1891, g_loss: 0.9307, D(x): 0.57, D(G(z)): 0.42\n",
      "Epoch [2/100], Step [400/600], d_loss: 1.3400, g_loss: 0.8378, D(x): 0.49, D(G(z)): 0.44\n",
      "Epoch [2/100], Step [600/600], d_loss: 1.4169, g_loss: 0.7213, D(x): 0.49, D(G(z)): 0.49\n",
      "Saving fake_images-0003.png\n",
      "Epoch [3/100], Step [200/600], d_loss: 1.4969, g_loss: 0.6787, D(x): 0.47, D(G(z)): 0.51\n",
      "Epoch [3/100], Step [400/600], d_loss: 1.4427, g_loss: 0.7014, D(x): 0.50, D(G(z)): 0.52\n",
      "Epoch [3/100], Step [600/600], d_loss: 1.4734, g_loss: 0.7037, D(x): 0.46, D(G(z)): 0.50\n",
      "Saving fake_images-0004.png\n",
      "Epoch [4/100], Step [200/600], d_loss: 1.3307, g_loss: 0.7361, D(x): 0.52, D(G(z)): 0.47\n",
      "Epoch [4/100], Step [400/600], d_loss: 1.3648, g_loss: 0.7475, D(x): 0.50, D(G(z)): 0.47\n",
      "Epoch [4/100], Step [600/600], d_loss: 1.4477, g_loss: 0.6746, D(x): 0.48, D(G(z)): 0.50\n",
      "Saving fake_images-0005.png\n",
      "Epoch [5/100], Step [200/600], d_loss: 1.3090, g_loss: 0.7597, D(x): 0.52, D(G(z)): 0.48\n",
      "Epoch [5/100], Step [400/600], d_loss: 1.5096, g_loss: 0.6619, D(x): 0.48, D(G(z)): 0.53\n",
      "Epoch [5/100], Step [600/600], d_loss: 1.2546, g_loss: 0.7503, D(x): 0.56, D(G(z)): 0.48\n",
      "Saving fake_images-0006.png\n",
      "Epoch [6/100], Step [200/600], d_loss: 1.5479, g_loss: 0.6729, D(x): 0.46, D(G(z)): 0.53\n",
      "Epoch [6/100], Step [400/600], d_loss: 1.3339, g_loss: 0.7538, D(x): 0.52, D(G(z)): 0.49\n",
      "Epoch [6/100], Step [600/600], d_loss: 1.3572, g_loss: 0.7205, D(x): 0.50, D(G(z)): 0.48\n",
      "Saving fake_images-0007.png\n",
      "Epoch [7/100], Step [200/600], d_loss: 1.3706, g_loss: 0.7134, D(x): 0.50, D(G(z)): 0.49\n",
      "Epoch [7/100], Step [400/600], d_loss: 1.6548, g_loss: 0.6141, D(x): 0.46, D(G(z)): 0.56\n",
      "Epoch [7/100], Step [600/600], d_loss: 1.3498, g_loss: 0.7153, D(x): 0.53, D(G(z)): 0.50\n",
      "Saving fake_images-0008.png\n",
      "Epoch [8/100], Step [200/600], d_loss: 1.3510, g_loss: 0.7116, D(x): 0.51, D(G(z)): 0.49\n",
      "Epoch [8/100], Step [400/600], d_loss: 1.3889, g_loss: 0.7337, D(x): 0.50, D(G(z)): 0.49\n",
      "Epoch [8/100], Step [600/600], d_loss: 1.5039, g_loss: 0.7078, D(x): 0.45, D(G(z)): 0.50\n",
      "Saving fake_images-0009.png\n",
      "Epoch [9/100], Step [200/600], d_loss: 1.3870, g_loss: 0.7059, D(x): 0.51, D(G(z)): 0.50\n",
      "Epoch [9/100], Step [400/600], d_loss: 1.3433, g_loss: 0.7328, D(x): 0.52, D(G(z)): 0.49\n",
      "Epoch [9/100], Step [600/600], d_loss: 1.4486, g_loss: 0.7055, D(x): 0.50, D(G(z)): 0.52\n",
      "Saving fake_images-0010.png\n",
      "Epoch [10/100], Step [200/600], d_loss: 1.3409, g_loss: 0.7286, D(x): 0.53, D(G(z)): 0.50\n",
      "Epoch [10/100], Step [400/600], d_loss: 1.3379, g_loss: 0.6957, D(x): 0.54, D(G(z)): 0.50\n",
      "Epoch [10/100], Step [600/600], d_loss: 1.3057, g_loss: 0.7409, D(x): 0.52, D(G(z)): 0.47\n",
      "Saving fake_images-0011.png\n",
      "Epoch [11/100], Step [200/600], d_loss: 1.4325, g_loss: 0.6998, D(x): 0.49, D(G(z)): 0.51\n",
      "Epoch [11/100], Step [400/600], d_loss: 1.3974, g_loss: 0.6848, D(x): 0.51, D(G(z)): 0.50\n",
      "Epoch [11/100], Step [600/600], d_loss: 1.3859, g_loss: 0.7464, D(x): 0.50, D(G(z)): 0.48\n",
      "Saving fake_images-0012.png\n",
      "Epoch [12/100], Step [200/600], d_loss: 1.4194, g_loss: 0.6703, D(x): 0.51, D(G(z)): 0.52\n",
      "Epoch [12/100], Step [400/600], d_loss: 1.3049, g_loss: 0.7874, D(x): 0.53, D(G(z)): 0.47\n",
      "Epoch [12/100], Step [600/600], d_loss: 1.4007, g_loss: 0.7469, D(x): 0.49, D(G(z)): 0.49\n",
      "Saving fake_images-0013.png\n",
      "Epoch [13/100], Step [200/600], d_loss: 1.4731, g_loss: 0.6860, D(x): 0.48, D(G(z)): 0.51\n",
      "Epoch [13/100], Step [400/600], d_loss: 1.4975, g_loss: 0.6957, D(x): 0.48, D(G(z)): 0.52\n",
      "Epoch [13/100], Step [600/600], d_loss: 1.5036, g_loss: 0.6922, D(x): 0.46, D(G(z)): 0.51\n",
      "Saving fake_images-0014.png\n",
      "Epoch [14/100], Step [200/600], d_loss: 1.3476, g_loss: 0.7661, D(x): 0.52, D(G(z)): 0.49\n",
      "Epoch [14/100], Step [400/600], d_loss: 1.4159, g_loss: 0.7088, D(x): 0.51, D(G(z)): 0.51\n",
      "Epoch [14/100], Step [600/600], d_loss: 1.4526, g_loss: 0.7281, D(x): 0.46, D(G(z)): 0.47\n",
      "Saving fake_images-0015.png\n",
      "Epoch [15/100], Step [200/600], d_loss: 1.3618, g_loss: 0.7128, D(x): 0.50, D(G(z)): 0.48\n",
      "Epoch [15/100], Step [400/600], d_loss: 1.3763, g_loss: 0.7425, D(x): 0.50, D(G(z)): 0.49\n",
      "Epoch [15/100], Step [600/600], d_loss: 1.3801, g_loss: 0.7231, D(x): 0.50, D(G(z)): 0.49\n",
      "Saving fake_images-0016.png\n",
      "Epoch [16/100], Step [200/600], d_loss: 1.3650, g_loss: 0.7142, D(x): 0.51, D(G(z)): 0.50\n",
      "Epoch [16/100], Step [400/600], d_loss: 1.3942, g_loss: 0.6957, D(x): 0.50, D(G(z)): 0.49\n",
      "Epoch [16/100], Step [600/600], d_loss: 1.2715, g_loss: 0.7698, D(x): 0.54, D(G(z)): 0.47\n",
      "Saving fake_images-0017.png\n",
      "Epoch [17/100], Step [200/600], d_loss: 1.3705, g_loss: 0.7240, D(x): 0.52, D(G(z)): 0.50\n",
      "Epoch [17/100], Step [400/600], d_loss: 1.3688, g_loss: 0.7489, D(x): 0.51, D(G(z)): 0.49\n",
      "Epoch [17/100], Step [600/600], d_loss: 1.3768, g_loss: 0.7002, D(x): 0.51, D(G(z)): 0.50\n",
      "Saving fake_images-0018.png\n",
      "Epoch [18/100], Step [200/600], d_loss: 1.4015, g_loss: 0.7292, D(x): 0.49, D(G(z)): 0.49\n",
      "Epoch [18/100], Step [400/600], d_loss: 1.3948, g_loss: 0.7040, D(x): 0.50, D(G(z)): 0.49\n",
      "Epoch [18/100], Step [600/600], d_loss: 1.3667, g_loss: 0.6960, D(x): 0.52, D(G(z)): 0.50\n",
      "Saving fake_images-0019.png\n",
      "Epoch [19/100], Step [200/600], d_loss: 1.3828, g_loss: 0.7187, D(x): 0.49, D(G(z)): 0.49\n",
      "Epoch [19/100], Step [400/600], d_loss: 1.3478, g_loss: 0.6989, D(x): 0.51, D(G(z)): 0.48\n",
      "Epoch [19/100], Step [600/600], d_loss: 1.4622, g_loss: 0.6635, D(x): 0.49, D(G(z)): 0.52\n",
      "Saving fake_images-0020.png\n",
      "Epoch [20/100], Step [200/600], d_loss: 1.3512, g_loss: 0.7334, D(x): 0.50, D(G(z)): 0.48\n",
      "Epoch [20/100], Step [400/600], d_loss: 1.3926, g_loss: 0.7120, D(x): 0.50, D(G(z)): 0.50\n",
      "Epoch [20/100], Step [600/600], d_loss: 1.3606, g_loss: 0.7112, D(x): 0.50, D(G(z)): 0.48\n",
      "Saving fake_images-0021.png\n",
      "Epoch [21/100], Step [200/600], d_loss: 1.3541, g_loss: 0.7396, D(x): 0.51, D(G(z)): 0.49\n",
      "Epoch [21/100], Step [400/600], d_loss: 1.3389, g_loss: 0.7130, D(x): 0.52, D(G(z)): 0.49\n",
      "Epoch [21/100], Step [600/600], d_loss: 1.3450, g_loss: 0.6927, D(x): 0.52, D(G(z)): 0.49\n",
      "Saving fake_images-0022.png\n",
      "Epoch [22/100], Step [200/600], d_loss: 1.3398, g_loss: 0.7104, D(x): 0.53, D(G(z)): 0.50\n",
      "Epoch [22/100], Step [400/600], d_loss: 1.3853, g_loss: 0.6878, D(x): 0.51, D(G(z)): 0.50\n",
      "Epoch [22/100], Step [600/600], d_loss: 1.3812, g_loss: 0.7415, D(x): 0.49, D(G(z)): 0.49\n",
      "Saving fake_images-0023.png\n",
      "Epoch [23/100], Step [200/600], d_loss: 1.4095, g_loss: 0.7362, D(x): 0.48, D(G(z)): 0.48\n",
      "Epoch [23/100], Step [400/600], d_loss: 1.3963, g_loss: 0.7335, D(x): 0.49, D(G(z)): 0.48\n",
      "Epoch [23/100], Step [600/600], d_loss: 1.3754, g_loss: 0.7394, D(x): 0.50, D(G(z)): 0.49\n",
      "Saving fake_images-0024.png\n",
      "Epoch [24/100], Step [200/600], d_loss: 1.3709, g_loss: 0.7327, D(x): 0.49, D(G(z)): 0.47\n",
      "Epoch [24/100], Step [400/600], d_loss: 1.3704, g_loss: 0.6920, D(x): 0.53, D(G(z)): 0.51\n",
      "Epoch [24/100], Step [600/600], d_loss: 1.2955, g_loss: 0.7529, D(x): 0.55, D(G(z)): 0.50\n",
      "Saving fake_images-0025.png\n",
      "Epoch [25/100], Step [200/600], d_loss: 1.3504, g_loss: 0.7362, D(x): 0.51, D(G(z)): 0.49\n",
      "Epoch [25/100], Step [400/600], d_loss: 1.3686, g_loss: 0.6932, D(x): 0.52, D(G(z)): 0.51\n",
      "Epoch [25/100], Step [600/600], d_loss: 1.4035, g_loss: 0.6672, D(x): 0.53, D(G(z)): 0.53\n",
      "Saving fake_images-0026.png\n",
      "Epoch [26/100], Step [200/600], d_loss: 1.3480, g_loss: 0.7043, D(x): 0.51, D(G(z)): 0.48\n",
      "Epoch [26/100], Step [400/600], d_loss: 1.3544, g_loss: 0.7037, D(x): 0.52, D(G(z)): 0.49\n",
      "Epoch [26/100], Step [600/600], d_loss: 1.3787, g_loss: 0.6757, D(x): 0.51, D(G(z)): 0.50\n",
      "Saving fake_images-0027.png\n",
      "Epoch [27/100], Step [200/600], d_loss: 1.3360, g_loss: 0.7247, D(x): 0.51, D(G(z)): 0.48\n",
      "Epoch [27/100], Step [400/600], d_loss: 1.3664, g_loss: 0.7323, D(x): 0.51, D(G(z)): 0.49\n",
      "Epoch [27/100], Step [600/600], d_loss: 1.3899, g_loss: 0.7327, D(x): 0.49, D(G(z)): 0.49\n",
      "Saving fake_images-0028.png\n",
      "Epoch [28/100], Step [200/600], d_loss: 1.3783, g_loss: 0.7014, D(x): 0.53, D(G(z)): 0.51\n",
      "Epoch [28/100], Step [400/600], d_loss: 1.3118, g_loss: 0.7638, D(x): 0.53, D(G(z)): 0.49\n",
      "Epoch [28/100], Step [600/600], d_loss: 1.3253, g_loss: 0.7060, D(x): 0.53, D(G(z)): 0.49\n",
      "Saving fake_images-0029.png\n",
      "Epoch [29/100], Step [200/600], d_loss: 1.3560, g_loss: 0.7310, D(x): 0.51, D(G(z)): 0.49\n",
      "Epoch [29/100], Step [400/600], d_loss: 1.3777, g_loss: 0.7064, D(x): 0.52, D(G(z)): 0.50\n",
      "Epoch [29/100], Step [600/600], d_loss: 1.3457, g_loss: 0.7324, D(x): 0.50, D(G(z)): 0.47\n",
      "Saving fake_images-0030.png\n",
      "Epoch [30/100], Step [200/600], d_loss: 1.3167, g_loss: 0.7020, D(x): 0.52, D(G(z)): 0.48\n",
      "Epoch [30/100], Step [400/600], d_loss: 1.3414, g_loss: 0.7070, D(x): 0.52, D(G(z)): 0.49\n",
      "Epoch [30/100], Step [600/600], d_loss: 1.3202, g_loss: 0.7487, D(x): 0.54, D(G(z)): 0.50\n",
      "Saving fake_images-0031.png\n",
      "Epoch [31/100], Step [200/600], d_loss: 1.3528, g_loss: 0.7734, D(x): 0.53, D(G(z)): 0.50\n",
      "Epoch [31/100], Step [400/600], d_loss: 1.4148, g_loss: 0.7418, D(x): 0.49, D(G(z)): 0.49\n",
      "Epoch [31/100], Step [600/600], d_loss: 1.3846, g_loss: 0.7104, D(x): 0.52, D(G(z)): 0.51\n",
      "Saving fake_images-0032.png\n",
      "Epoch [32/100], Step [200/600], d_loss: 1.3457, g_loss: 0.7372, D(x): 0.52, D(G(z)): 0.48\n",
      "Epoch [32/100], Step [400/600], d_loss: 1.3917, g_loss: 0.7400, D(x): 0.51, D(G(z)): 0.50\n",
      "Epoch [32/100], Step [600/600], d_loss: 1.3608, g_loss: 0.7558, D(x): 0.51, D(G(z)): 0.48\n",
      "Saving fake_images-0033.png\n",
      "Epoch [33/100], Step [200/600], d_loss: 1.3674, g_loss: 0.7079, D(x): 0.53, D(G(z)): 0.51\n",
      "Epoch [33/100], Step [400/600], d_loss: 1.3651, g_loss: 0.7343, D(x): 0.53, D(G(z)): 0.51\n",
      "Epoch [33/100], Step [600/600], d_loss: 1.3782, g_loss: 0.7635, D(x): 0.50, D(G(z)): 0.48\n",
      "Saving fake_images-0034.png\n",
      "Epoch [34/100], Step [200/600], d_loss: 1.3775, g_loss: 0.7678, D(x): 0.48, D(G(z)): 0.46\n",
      "Epoch [34/100], Step [400/600], d_loss: 1.3650, g_loss: 0.7644, D(x): 0.50, D(G(z)): 0.48\n",
      "Epoch [34/100], Step [600/600], d_loss: 1.3543, g_loss: 0.7350, D(x): 0.51, D(G(z)): 0.48\n",
      "Saving fake_images-0035.png\n",
      "Epoch [35/100], Step [200/600], d_loss: 1.3869, g_loss: 0.7459, D(x): 0.50, D(G(z)): 0.49\n",
      "Epoch [35/100], Step [400/600], d_loss: 1.3346, g_loss: 0.6828, D(x): 0.55, D(G(z)): 0.51\n",
      "Epoch [35/100], Step [600/600], d_loss: 1.3553, g_loss: 0.7148, D(x): 0.51, D(G(z)): 0.48\n",
      "Saving fake_images-0036.png\n",
      "Epoch [36/100], Step [200/600], d_loss: 1.3598, g_loss: 0.7118, D(x): 0.51, D(G(z)): 0.49\n",
      "Epoch [36/100], Step [400/600], d_loss: 1.3862, g_loss: 0.7256, D(x): 0.52, D(G(z)): 0.51\n",
      "Epoch [36/100], Step [600/600], d_loss: 1.3721, g_loss: 0.7662, D(x): 0.50, D(G(z)): 0.48\n",
      "Saving fake_images-0037.png\n",
      "Epoch [37/100], Step [200/600], d_loss: 1.4255, g_loss: 0.6677, D(x): 0.51, D(G(z)): 0.52\n",
      "Epoch [37/100], Step [400/600], d_loss: 1.3599, g_loss: 0.7567, D(x): 0.49, D(G(z)): 0.46\n",
      "Epoch [37/100], Step [600/600], d_loss: 1.3797, g_loss: 0.7573, D(x): 0.48, D(G(z)): 0.46\n",
      "Saving fake_images-0038.png\n",
      "Epoch [38/100], Step [200/600], d_loss: 1.3795, g_loss: 0.8059, D(x): 0.49, D(G(z)): 0.47\n",
      "Epoch [38/100], Step [400/600], d_loss: 1.3226, g_loss: 0.7087, D(x): 0.53, D(G(z)): 0.49\n",
      "Epoch [38/100], Step [600/600], d_loss: 1.3874, g_loss: 0.7132, D(x): 0.53, D(G(z)): 0.52\n",
      "Saving fake_images-0039.png\n",
      "Epoch [39/100], Step [200/600], d_loss: 1.3657, g_loss: 0.7299, D(x): 0.51, D(G(z)): 0.49\n",
      "Epoch [39/100], Step [400/600], d_loss: 1.3700, g_loss: 0.7049, D(x): 0.50, D(G(z)): 0.48\n",
      "Epoch [39/100], Step [600/600], d_loss: 1.3627, g_loss: 0.7111, D(x): 0.51, D(G(z)): 0.49\n",
      "Saving fake_images-0040.png\n",
      "Epoch [40/100], Step [200/600], d_loss: 1.3752, g_loss: 0.7359, D(x): 0.50, D(G(z)): 0.48\n",
      "Epoch [40/100], Step [400/600], d_loss: 1.3400, g_loss: 0.7956, D(x): 0.51, D(G(z)): 0.48\n",
      "Epoch [40/100], Step [600/600], d_loss: 1.3702, g_loss: 0.7786, D(x): 0.50, D(G(z)): 0.47\n",
      "Saving fake_images-0041.png\n",
      "Epoch [41/100], Step [200/600], d_loss: 1.3866, g_loss: 0.6926, D(x): 0.55, D(G(z)): 0.53\n",
      "Epoch [41/100], Step [400/600], d_loss: 1.3598, g_loss: 0.7000, D(x): 0.53, D(G(z)): 0.51\n",
      "Epoch [41/100], Step [600/600], d_loss: 1.3457, g_loss: 0.7102, D(x): 0.53, D(G(z)): 0.50\n",
      "Saving fake_images-0042.png\n",
      "Epoch [42/100], Step [200/600], d_loss: 1.3466, g_loss: 0.7201, D(x): 0.52, D(G(z)): 0.48\n",
      "Epoch [42/100], Step [400/600], d_loss: 1.3833, g_loss: 0.7549, D(x): 0.51, D(G(z)): 0.49\n",
      "Epoch [42/100], Step [600/600], d_loss: 1.3777, g_loss: 0.7458, D(x): 0.50, D(G(z)): 0.49\n",
      "Saving fake_images-0043.png\n",
      "Epoch [43/100], Step [200/600], d_loss: 1.3480, g_loss: 0.7354, D(x): 0.52, D(G(z)): 0.48\n",
      "Epoch [43/100], Step [400/600], d_loss: 1.4035, g_loss: 0.7402, D(x): 0.50, D(G(z)): 0.49\n",
      "Epoch [43/100], Step [600/600], d_loss: 1.4217, g_loss: 0.7652, D(x): 0.48, D(G(z)): 0.48\n",
      "Saving fake_images-0044.png\n",
      "Epoch [44/100], Step [200/600], d_loss: 1.3575, g_loss: 0.6973, D(x): 0.53, D(G(z)): 0.51\n",
      "Epoch [44/100], Step [400/600], d_loss: 1.3490, g_loss: 0.7228, D(x): 0.52, D(G(z)): 0.49\n",
      "Epoch [44/100], Step [600/600], d_loss: 1.3799, g_loss: 0.7681, D(x): 0.50, D(G(z)): 0.48\n",
      "Saving fake_images-0045.png\n",
      "Epoch [45/100], Step [200/600], d_loss: 1.3500, g_loss: 0.7176, D(x): 0.52, D(G(z)): 0.48\n",
      "Epoch [45/100], Step [400/600], d_loss: 1.3266, g_loss: 0.7436, D(x): 0.51, D(G(z)): 0.47\n",
      "Epoch [45/100], Step [600/600], d_loss: 1.3895, g_loss: 0.7067, D(x): 0.50, D(G(z)): 0.49\n",
      "Saving fake_images-0046.png\n",
      "Epoch [46/100], Step [200/600], d_loss: 1.3486, g_loss: 0.7774, D(x): 0.51, D(G(z)): 0.48\n",
      "Epoch [46/100], Step [400/600], d_loss: 1.3606, g_loss: 0.7508, D(x): 0.53, D(G(z)): 0.50\n",
      "Epoch [46/100], Step [600/600], d_loss: 1.3881, g_loss: 0.6966, D(x): 0.54, D(G(z)): 0.52\n",
      "Saving fake_images-0047.png\n",
      "Epoch [47/100], Step [200/600], d_loss: 1.3355, g_loss: 0.7222, D(x): 0.54, D(G(z)): 0.50\n",
      "Epoch [47/100], Step [400/600], d_loss: 1.3500, g_loss: 0.7586, D(x): 0.49, D(G(z)): 0.46\n",
      "Epoch [47/100], Step [600/600], d_loss: 1.3507, g_loss: 0.7968, D(x): 0.49, D(G(z)): 0.46\n",
      "Saving fake_images-0048.png\n",
      "Epoch [48/100], Step [200/600], d_loss: 1.3583, g_loss: 0.7153, D(x): 0.51, D(G(z)): 0.49\n",
      "Epoch [48/100], Step [400/600], d_loss: 1.3563, g_loss: 0.7488, D(x): 0.49, D(G(z)): 0.47\n",
      "Epoch [48/100], Step [600/600], d_loss: 1.3252, g_loss: 0.7067, D(x): 0.55, D(G(z)): 0.50\n",
      "Saving fake_images-0049.png\n",
      "Epoch [49/100], Step [200/600], d_loss: 1.3674, g_loss: 0.7280, D(x): 0.52, D(G(z)): 0.49\n",
      "Epoch [49/100], Step [400/600], d_loss: 1.3159, g_loss: 0.7784, D(x): 0.52, D(G(z)): 0.47\n",
      "Epoch [49/100], Step [600/600], d_loss: 1.3329, g_loss: 0.8015, D(x): 0.51, D(G(z)): 0.46\n",
      "Saving fake_images-0050.png\n",
      "Epoch [50/100], Step [200/600], d_loss: 1.3191, g_loss: 0.7737, D(x): 0.52, D(G(z)): 0.47\n",
      "Epoch [50/100], Step [400/600], d_loss: 1.3824, g_loss: 0.6874, D(x): 0.52, D(G(z)): 0.50\n",
      "Epoch [50/100], Step [600/600], d_loss: 1.3939, g_loss: 0.7421, D(x): 0.50, D(G(z)): 0.49\n",
      "Saving fake_images-0051.png\n",
      "Epoch [51/100], Step [200/600], d_loss: 1.3483, g_loss: 0.7308, D(x): 0.52, D(G(z)): 0.48\n",
      "Epoch [51/100], Step [400/600], d_loss: 1.3506, g_loss: 0.6743, D(x): 0.52, D(G(z)): 0.49\n",
      "Epoch [51/100], Step [600/600], d_loss: 1.4015, g_loss: 0.7344, D(x): 0.49, D(G(z)): 0.48\n",
      "Saving fake_images-0052.png\n",
      "Epoch [52/100], Step [200/600], d_loss: 1.3973, g_loss: 0.6948, D(x): 0.52, D(G(z)): 0.51\n",
      "Epoch [52/100], Step [400/600], d_loss: 1.3771, g_loss: 0.7465, D(x): 0.51, D(G(z)): 0.49\n",
      "Epoch [52/100], Step [600/600], d_loss: 1.3347, g_loss: 0.7175, D(x): 0.54, D(G(z)): 0.50\n",
      "Saving fake_images-0053.png\n",
      "Epoch [53/100], Step [200/600], d_loss: 1.3289, g_loss: 0.7449, D(x): 0.53, D(G(z)): 0.48\n",
      "Epoch [53/100], Step [400/600], d_loss: 1.3425, g_loss: 0.7080, D(x): 0.53, D(G(z)): 0.49\n",
      "Epoch [53/100], Step [600/600], d_loss: 1.4084, g_loss: 0.7514, D(x): 0.50, D(G(z)): 0.49\n",
      "Saving fake_images-0054.png\n",
      "Epoch [54/100], Step [200/600], d_loss: 1.3647, g_loss: 0.6965, D(x): 0.51, D(G(z)): 0.49\n",
      "Epoch [54/100], Step [400/600], d_loss: 1.3581, g_loss: 0.6989, D(x): 0.54, D(G(z)): 0.51\n",
      "Epoch [54/100], Step [600/600], d_loss: 1.3965, g_loss: 0.7246, D(x): 0.51, D(G(z)): 0.50\n",
      "Saving fake_images-0055.png\n",
      "Epoch [55/100], Step [200/600], d_loss: 1.3406, g_loss: 0.7063, D(x): 0.53, D(G(z)): 0.49\n",
      "Epoch [55/100], Step [400/600], d_loss: 1.4635, g_loss: 0.7909, D(x): 0.47, D(G(z)): 0.49\n",
      "Epoch [55/100], Step [600/600], d_loss: 1.3742, g_loss: 0.7191, D(x): 0.52, D(G(z)): 0.50\n",
      "Saving fake_images-0056.png\n",
      "Epoch [56/100], Step [200/600], d_loss: 1.3671, g_loss: 0.7632, D(x): 0.51, D(G(z)): 0.49\n",
      "Epoch [56/100], Step [400/600], d_loss: 1.3541, g_loss: 0.7150, D(x): 0.51, D(G(z)): 0.48\n",
      "Epoch [56/100], Step [600/600], d_loss: 1.3408, g_loss: 0.7027, D(x): 0.51, D(G(z)): 0.48\n",
      "Saving fake_images-0057.png\n",
      "Epoch [57/100], Step [200/600], d_loss: 1.3930, g_loss: 0.7132, D(x): 0.50, D(G(z)): 0.49\n",
      "Epoch [57/100], Step [400/600], d_loss: 1.3770, g_loss: 0.7251, D(x): 0.50, D(G(z)): 0.48\n",
      "Epoch [57/100], Step [600/600], d_loss: 1.3792, g_loss: 0.7359, D(x): 0.53, D(G(z)): 0.51\n",
      "Saving fake_images-0058.png\n",
      "Epoch [58/100], Step [200/600], d_loss: 1.3369, g_loss: 0.7381, D(x): 0.52, D(G(z)): 0.48\n",
      "Epoch [58/100], Step [400/600], d_loss: 1.3879, g_loss: 0.7232, D(x): 0.52, D(G(z)): 0.50\n",
      "Epoch [58/100], Step [600/600], d_loss: 1.3888, g_loss: 0.7041, D(x): 0.52, D(G(z)): 0.51\n",
      "Saving fake_images-0059.png\n",
      "Epoch [59/100], Step [200/600], d_loss: 1.3621, g_loss: 0.6750, D(x): 0.52, D(G(z)): 0.50\n",
      "Epoch [59/100], Step [400/600], d_loss: 1.3831, g_loss: 0.7348, D(x): 0.50, D(G(z)): 0.49\n",
      "Epoch [59/100], Step [600/600], d_loss: 1.3626, g_loss: 0.7314, D(x): 0.52, D(G(z)): 0.50\n",
      "Saving fake_images-0060.png\n",
      "Epoch [60/100], Step [200/600], d_loss: 1.3580, g_loss: 0.7268, D(x): 0.51, D(G(z)): 0.48\n",
      "Epoch [60/100], Step [400/600], d_loss: 1.3551, g_loss: 0.7322, D(x): 0.54, D(G(z)): 0.51\n",
      "Epoch [60/100], Step [600/600], d_loss: 1.3470, g_loss: 0.7262, D(x): 0.53, D(G(z)): 0.49\n",
      "Saving fake_images-0061.png\n",
      "Epoch [61/100], Step [200/600], d_loss: 1.3421, g_loss: 0.7120, D(x): 0.52, D(G(z)): 0.48\n",
      "Epoch [61/100], Step [400/600], d_loss: 1.3782, g_loss: 0.6653, D(x): 0.52, D(G(z)): 0.51\n",
      "Epoch [61/100], Step [600/600], d_loss: 1.3704, g_loss: 0.7200, D(x): 0.52, D(G(z)): 0.50\n",
      "Saving fake_images-0062.png\n",
      "Epoch [62/100], Step [200/600], d_loss: 1.4101, g_loss: 0.7060, D(x): 0.51, D(G(z)): 0.51\n",
      "Epoch [62/100], Step [400/600], d_loss: 1.3827, g_loss: 0.7405, D(x): 0.52, D(G(z)): 0.50\n",
      "Epoch [62/100], Step [600/600], d_loss: 1.4083, g_loss: 0.7158, D(x): 0.51, D(G(z)): 0.51\n",
      "Saving fake_images-0063.png\n",
      "Epoch [63/100], Step [200/600], d_loss: 1.3768, g_loss: 0.7669, D(x): 0.48, D(G(z)): 0.46\n",
      "Epoch [63/100], Step [400/600], d_loss: 1.3721, g_loss: 0.6931, D(x): 0.53, D(G(z)): 0.51\n",
      "Epoch [63/100], Step [600/600], d_loss: 1.3898, g_loss: 0.7117, D(x): 0.51, D(G(z)): 0.49\n",
      "Saving fake_images-0064.png\n",
      "Epoch [64/100], Step [200/600], d_loss: 1.3631, g_loss: 0.8060, D(x): 0.51, D(G(z)): 0.48\n",
      "Epoch [64/100], Step [400/600], d_loss: 1.5034, g_loss: 0.6853, D(x): 0.49, D(G(z)): 0.53\n",
      "Epoch [64/100], Step [600/600], d_loss: 1.3298, g_loss: 0.7241, D(x): 0.52, D(G(z)): 0.48\n",
      "Saving fake_images-0065.png\n",
      "Epoch [65/100], Step [200/600], d_loss: 1.3716, g_loss: 0.7435, D(x): 0.51, D(G(z)): 0.49\n",
      "Epoch [65/100], Step [400/600], d_loss: 1.3488, g_loss: 0.7615, D(x): 0.51, D(G(z)): 0.48\n",
      "Epoch [65/100], Step [600/600], d_loss: 1.3832, g_loss: 0.7371, D(x): 0.50, D(G(z)): 0.49\n",
      "Saving fake_images-0066.png\n",
      "Epoch [66/100], Step [200/600], d_loss: 1.3990, g_loss: 0.7214, D(x): 0.50, D(G(z)): 0.49\n",
      "Epoch [66/100], Step [400/600], d_loss: 1.3332, g_loss: 0.7239, D(x): 0.52, D(G(z)): 0.48\n",
      "Epoch [66/100], Step [600/600], d_loss: 1.3661, g_loss: 0.7259, D(x): 0.50, D(G(z)): 0.48\n",
      "Saving fake_images-0067.png\n",
      "Epoch [67/100], Step [200/600], d_loss: 1.3564, g_loss: 0.7340, D(x): 0.52, D(G(z)): 0.49\n",
      "Epoch [67/100], Step [400/600], d_loss: 1.3698, g_loss: 0.6956, D(x): 0.52, D(G(z)): 0.50\n",
      "Epoch [67/100], Step [600/600], d_loss: 1.3550, g_loss: 0.7319, D(x): 0.52, D(G(z)): 0.49\n",
      "Saving fake_images-0068.png\n",
      "Epoch [68/100], Step [200/600], d_loss: 1.3552, g_loss: 0.7760, D(x): 0.49, D(G(z)): 0.46\n",
      "Epoch [68/100], Step [400/600], d_loss: 1.3141, g_loss: 0.7073, D(x): 0.53, D(G(z)): 0.48\n",
      "Epoch [68/100], Step [600/600], d_loss: 1.3060, g_loss: 0.7117, D(x): 0.53, D(G(z)): 0.48\n",
      "Saving fake_images-0069.png\n",
      "Epoch [69/100], Step [200/600], d_loss: 1.3726, g_loss: 0.7191, D(x): 0.52, D(G(z)): 0.50\n",
      "Epoch [69/100], Step [400/600], d_loss: 1.3486, g_loss: 0.7434, D(x): 0.53, D(G(z)): 0.49\n",
      "Epoch [69/100], Step [600/600], d_loss: 1.3861, g_loss: 0.7335, D(x): 0.48, D(G(z)): 0.47\n",
      "Saving fake_images-0070.png\n",
      "Epoch [70/100], Step [200/600], d_loss: 1.3930, g_loss: 0.7704, D(x): 0.49, D(G(z)): 0.48\n",
      "Epoch [70/100], Step [400/600], d_loss: 1.3466, g_loss: 0.7084, D(x): 0.51, D(G(z)): 0.48\n",
      "Epoch [70/100], Step [600/600], d_loss: 1.3596, g_loss: 0.7344, D(x): 0.52, D(G(z)): 0.49\n",
      "Saving fake_images-0071.png\n",
      "Epoch [71/100], Step [200/600], d_loss: 1.3179, g_loss: 0.7037, D(x): 0.53, D(G(z)): 0.49\n",
      "Epoch [71/100], Step [400/600], d_loss: 1.3770, g_loss: 0.7348, D(x): 0.52, D(G(z)): 0.50\n",
      "Epoch [71/100], Step [600/600], d_loss: 1.3881, g_loss: 0.7629, D(x): 0.51, D(G(z)): 0.50\n",
      "Saving fake_images-0072.png\n",
      "Epoch [72/100], Step [200/600], d_loss: 1.3633, g_loss: 0.7023, D(x): 0.52, D(G(z)): 0.50\n",
      "Epoch [72/100], Step [400/600], d_loss: 1.3771, g_loss: 0.7557, D(x): 0.50, D(G(z)): 0.48\n",
      "Epoch [72/100], Step [600/600], d_loss: 1.3693, g_loss: 0.6893, D(x): 0.53, D(G(z)): 0.50\n",
      "Saving fake_images-0073.png\n",
      "Epoch [73/100], Step [200/600], d_loss: 1.3491, g_loss: 0.7416, D(x): 0.51, D(G(z)): 0.48\n",
      "Epoch [73/100], Step [400/600], d_loss: 1.3850, g_loss: 0.7541, D(x): 0.51, D(G(z)): 0.49\n",
      "Epoch [73/100], Step [600/600], d_loss: 1.3726, g_loss: 0.7611, D(x): 0.52, D(G(z)): 0.50\n",
      "Saving fake_images-0074.png\n",
      "Epoch [74/100], Step [200/600], d_loss: 1.3406, g_loss: 0.7339, D(x): 0.52, D(G(z)): 0.48\n",
      "Epoch [74/100], Step [400/600], d_loss: 1.3481, g_loss: 0.7025, D(x): 0.53, D(G(z)): 0.50\n",
      "Epoch [74/100], Step [600/600], d_loss: 1.3391, g_loss: 0.7458, D(x): 0.51, D(G(z)): 0.48\n",
      "Saving fake_images-0075.png\n",
      "Epoch [75/100], Step [200/600], d_loss: 1.3883, g_loss: 0.7585, D(x): 0.51, D(G(z)): 0.49\n",
      "Epoch [75/100], Step [400/600], d_loss: 1.3817, g_loss: 0.7179, D(x): 0.51, D(G(z)): 0.49\n",
      "Epoch [75/100], Step [600/600], d_loss: 1.3770, g_loss: 0.7285, D(x): 0.51, D(G(z)): 0.50\n",
      "Saving fake_images-0076.png\n",
      "Epoch [76/100], Step [200/600], d_loss: 1.3688, g_loss: 0.6640, D(x): 0.53, D(G(z)): 0.51\n",
      "Epoch [76/100], Step [400/600], d_loss: 1.3796, g_loss: 0.7198, D(x): 0.50, D(G(z)): 0.48\n",
      "Epoch [76/100], Step [600/600], d_loss: 1.3902, g_loss: 0.7029, D(x): 0.50, D(G(z)): 0.49\n",
      "Saving fake_images-0077.png\n",
      "Epoch [77/100], Step [200/600], d_loss: 1.3731, g_loss: 0.6644, D(x): 0.52, D(G(z)): 0.50\n",
      "Epoch [77/100], Step [400/600], d_loss: 1.3751, g_loss: 0.7633, D(x): 0.51, D(G(z)): 0.50\n",
      "Epoch [77/100], Step [600/600], d_loss: 1.3504, g_loss: 0.7287, D(x): 0.51, D(G(z)): 0.48\n",
      "Saving fake_images-0078.png\n",
      "Epoch [78/100], Step [200/600], d_loss: 1.3599, g_loss: 0.7592, D(x): 0.50, D(G(z)): 0.47\n",
      "Epoch [78/100], Step [400/600], d_loss: 1.3365, g_loss: 0.7279, D(x): 0.53, D(G(z)): 0.49\n",
      "Epoch [78/100], Step [600/600], d_loss: 1.3605, g_loss: 0.7288, D(x): 0.50, D(G(z)): 0.48\n",
      "Saving fake_images-0079.png\n",
      "Epoch [79/100], Step [200/600], d_loss: 1.3415, g_loss: 0.6968, D(x): 0.51, D(G(z)): 0.48\n",
      "Epoch [79/100], Step [400/600], d_loss: 1.3525, g_loss: 0.7216, D(x): 0.49, D(G(z)): 0.47\n",
      "Epoch [79/100], Step [600/600], d_loss: 1.3954, g_loss: 0.7509, D(x): 0.48, D(G(z)): 0.47\n",
      "Saving fake_images-0080.png\n",
      "Epoch [80/100], Step [200/600], d_loss: 1.3811, g_loss: 0.7273, D(x): 0.51, D(G(z)): 0.50\n",
      "Epoch [80/100], Step [400/600], d_loss: 1.3663, g_loss: 0.7258, D(x): 0.49, D(G(z)): 0.47\n",
      "Epoch [80/100], Step [600/600], d_loss: 1.3633, g_loss: 0.6904, D(x): 0.53, D(G(z)): 0.50\n",
      "Saving fake_images-0081.png\n",
      "Epoch [81/100], Step [200/600], d_loss: 1.3658, g_loss: 0.7446, D(x): 0.50, D(G(z)): 0.47\n",
      "Epoch [81/100], Step [400/600], d_loss: 1.3712, g_loss: 0.7269, D(x): 0.52, D(G(z)): 0.50\n",
      "Epoch [81/100], Step [600/600], d_loss: 1.3189, g_loss: 0.7657, D(x): 0.51, D(G(z)): 0.46\n",
      "Saving fake_images-0082.png\n",
      "Epoch [82/100], Step [200/600], d_loss: 1.3695, g_loss: 0.7271, D(x): 0.52, D(G(z)): 0.50\n",
      "Epoch [82/100], Step [400/600], d_loss: 1.3758, g_loss: 0.7481, D(x): 0.50, D(G(z)): 0.48\n",
      "Epoch [82/100], Step [600/600], d_loss: 1.3760, g_loss: 0.7370, D(x): 0.50, D(G(z)): 0.48\n",
      "Saving fake_images-0083.png\n",
      "Epoch [83/100], Step [200/600], d_loss: 1.3077, g_loss: 0.7233, D(x): 0.55, D(G(z)): 0.49\n",
      "Epoch [83/100], Step [400/600], d_loss: 1.3478, g_loss: 0.7263, D(x): 0.51, D(G(z)): 0.48\n",
      "Epoch [83/100], Step [600/600], d_loss: 1.3404, g_loss: 0.7617, D(x): 0.51, D(G(z)): 0.47\n",
      "Saving fake_images-0084.png\n",
      "Epoch [84/100], Step [200/600], d_loss: 1.3678, g_loss: 0.6899, D(x): 0.52, D(G(z)): 0.50\n",
      "Epoch [84/100], Step [400/600], d_loss: 1.3947, g_loss: 0.6997, D(x): 0.50, D(G(z)): 0.49\n",
      "Epoch [84/100], Step [600/600], d_loss: 1.3552, g_loss: 0.7391, D(x): 0.51, D(G(z)): 0.49\n",
      "Saving fake_images-0085.png\n",
      "Epoch [85/100], Step [200/600], d_loss: 1.3229, g_loss: 0.6938, D(x): 0.54, D(G(z)): 0.50\n",
      "Epoch [85/100], Step [400/600], d_loss: 1.3716, g_loss: 0.7459, D(x): 0.49, D(G(z)): 0.47\n",
      "Epoch [85/100], Step [600/600], d_loss: 1.3371, g_loss: 0.7123, D(x): 0.52, D(G(z)): 0.48\n",
      "Saving fake_images-0086.png\n",
      "Epoch [86/100], Step [200/600], d_loss: 1.3860, g_loss: 0.7273, D(x): 0.51, D(G(z)): 0.50\n",
      "Epoch [86/100], Step [400/600], d_loss: 1.3665, g_loss: 0.6761, D(x): 0.51, D(G(z)): 0.49\n",
      "Epoch [86/100], Step [600/600], d_loss: 1.3647, g_loss: 0.7245, D(x): 0.50, D(G(z)): 0.48\n",
      "Saving fake_images-0087.png\n",
      "Epoch [87/100], Step [200/600], d_loss: 1.3425, g_loss: 0.7478, D(x): 0.51, D(G(z)): 0.47\n",
      "Epoch [87/100], Step [400/600], d_loss: 1.3650, g_loss: 0.6852, D(x): 0.52, D(G(z)): 0.50\n",
      "Epoch [87/100], Step [600/600], d_loss: 1.3583, g_loss: 0.7115, D(x): 0.52, D(G(z)): 0.49\n",
      "Saving fake_images-0088.png\n",
      "Epoch [88/100], Step [200/600], d_loss: 1.3713, g_loss: 0.7873, D(x): 0.50, D(G(z)): 0.48\n",
      "Epoch [88/100], Step [400/600], d_loss: 1.3796, g_loss: 0.6983, D(x): 0.51, D(G(z)): 0.50\n",
      "Epoch [88/100], Step [600/600], d_loss: 1.3719, g_loss: 0.7239, D(x): 0.51, D(G(z)): 0.50\n",
      "Saving fake_images-0089.png\n",
      "Epoch [89/100], Step [200/600], d_loss: 1.3899, g_loss: 0.7022, D(x): 0.52, D(G(z)): 0.51\n",
      "Epoch [89/100], Step [400/600], d_loss: 1.3811, g_loss: 0.6944, D(x): 0.53, D(G(z)): 0.51\n",
      "Epoch [89/100], Step [600/600], d_loss: 1.4007, g_loss: 0.7116, D(x): 0.51, D(G(z)): 0.51\n",
      "Saving fake_images-0090.png\n",
      "Epoch [90/100], Step [200/600], d_loss: 1.3470, g_loss: 0.7184, D(x): 0.51, D(G(z)): 0.48\n",
      "Epoch [90/100], Step [400/600], d_loss: 1.3753, g_loss: 0.6947, D(x): 0.52, D(G(z)): 0.50\n",
      "Epoch [90/100], Step [600/600], d_loss: 1.3732, g_loss: 0.7044, D(x): 0.51, D(G(z)): 0.49\n",
      "Saving fake_images-0091.png\n",
      "Epoch [91/100], Step [200/600], d_loss: 1.3764, g_loss: 0.6673, D(x): 0.51, D(G(z)): 0.50\n",
      "Epoch [91/100], Step [400/600], d_loss: 1.3578, g_loss: 0.7113, D(x): 0.50, D(G(z)): 0.48\n",
      "Epoch [91/100], Step [600/600], d_loss: 1.3769, g_loss: 0.7092, D(x): 0.51, D(G(z)): 0.49\n",
      "Saving fake_images-0092.png\n",
      "Epoch [92/100], Step [200/600], d_loss: 1.3529, g_loss: 0.6974, D(x): 0.51, D(G(z)): 0.49\n",
      "Epoch [92/100], Step [400/600], d_loss: 1.3498, g_loss: 0.7632, D(x): 0.50, D(G(z)): 0.47\n",
      "Epoch [92/100], Step [600/600], d_loss: 1.3545, g_loss: 0.7621, D(x): 0.51, D(G(z)): 0.49\n",
      "Saving fake_images-0093.png\n",
      "Epoch [93/100], Step [200/600], d_loss: 1.3515, g_loss: 0.7172, D(x): 0.53, D(G(z)): 0.50\n",
      "Epoch [93/100], Step [400/600], d_loss: 1.3710, g_loss: 0.7317, D(x): 0.50, D(G(z)): 0.49\n",
      "Epoch [93/100], Step [600/600], d_loss: 1.3826, g_loss: 0.7152, D(x): 0.52, D(G(z)): 0.50\n",
      "Saving fake_images-0094.png\n",
      "Epoch [94/100], Step [200/600], d_loss: 1.3588, g_loss: 0.7297, D(x): 0.50, D(G(z)): 0.47\n",
      "Epoch [94/100], Step [400/600], d_loss: 1.3747, g_loss: 0.7098, D(x): 0.51, D(G(z)): 0.49\n",
      "Epoch [94/100], Step [600/600], d_loss: 1.3385, g_loss: 0.7065, D(x): 0.51, D(G(z)): 0.48\n",
      "Saving fake_images-0095.png\n",
      "Epoch [95/100], Step [200/600], d_loss: 1.3512, g_loss: 0.7347, D(x): 0.54, D(G(z)): 0.51\n",
      "Epoch [95/100], Step [400/600], d_loss: 1.3632, g_loss: 0.7662, D(x): 0.50, D(G(z)): 0.48\n",
      "Epoch [95/100], Step [600/600], d_loss: 1.3384, g_loss: 0.7432, D(x): 0.52, D(G(z)): 0.48\n",
      "Saving fake_images-0096.png\n",
      "Epoch [96/100], Step [200/600], d_loss: 1.3747, g_loss: 0.7029, D(x): 0.51, D(G(z)): 0.49\n",
      "Epoch [96/100], Step [400/600], d_loss: 1.3781, g_loss: 0.7674, D(x): 0.50, D(G(z)): 0.48\n",
      "Epoch [96/100], Step [600/600], d_loss: 1.3509, g_loss: 0.7086, D(x): 0.53, D(G(z)): 0.50\n",
      "Saving fake_images-0097.png\n",
      "Epoch [97/100], Step [200/600], d_loss: 1.3964, g_loss: 0.7207, D(x): 0.50, D(G(z)): 0.49\n",
      "Epoch [97/100], Step [400/600], d_loss: 1.3435, g_loss: 0.7242, D(x): 0.51, D(G(z)): 0.48\n",
      "Epoch [97/100], Step [600/600], d_loss: 1.3744, g_loss: 0.6820, D(x): 0.53, D(G(z)): 0.51\n",
      "Saving fake_images-0098.png\n",
      "Epoch [98/100], Step [200/600], d_loss: 1.3503, g_loss: 0.7377, D(x): 0.50, D(G(z)): 0.48\n",
      "Epoch [98/100], Step [400/600], d_loss: 1.3392, g_loss: 0.7258, D(x): 0.51, D(G(z)): 0.48\n",
      "Epoch [98/100], Step [600/600], d_loss: 1.3537, g_loss: 0.6943, D(x): 0.52, D(G(z)): 0.50\n",
      "Saving fake_images-0099.png\n",
      "Epoch [99/100], Step [200/600], d_loss: 1.3650, g_loss: 0.7118, D(x): 0.51, D(G(z)): 0.49\n",
      "Epoch [99/100], Step [400/600], d_loss: 1.3742, g_loss: 0.7582, D(x): 0.51, D(G(z)): 0.49\n",
      "Epoch [99/100], Step [600/600], d_loss: 1.4069, g_loss: 0.7307, D(x): 0.50, D(G(z)): 0.50\n",
      "Saving fake_images-0100.png\n",
      "CPU times: user 30min 42s, sys: 13.6 s, total: 30min 56s\n",
      "Wall time: 31min 29s\n"
     ]
    }
   ],
   "source": [
    "%%time\n",
    "\n",
    "total_step = len(data_loader)\n",
    "d_losses, g_losses, real_scores, fake_scores = [], [], [], []\n",
    "\n",
    "for epoch in range(num_epochs):\n",
    "    for i, (images, _) in enumerate(data_loader):\n",
    "        # Load a batch of images and their corresponding labels\n",
    "        # images shape: (batch_size, channels, height, width)\n",
    "        # labels shape: (batch_size,)\n",
    "\n",
    "        # Move images to device (GPU)\n",
    "        images = images.to(device)\n",
    "        \n",
    "        # Train the discriminator and get the discriminator loss and scores\n",
    "        d_loss, real_score, fake_score = train_discriminator(images)\n",
    "\n",
    "        # Train the generator and get the generator loss and generated fake images\n",
    "        g_loss, fake_images = train_generator()\n",
    "        g_loss, fake_images = train_generator()\n",
    "    \n",
    "        \n",
    "        \n",
    "        # Inspect the losses\n",
    "        if (i+1) % 200 == 0:\n",
    "            d_losses.append(d_loss.item())\n",
    "            g_losses.append(g_loss.item())\n",
    "            real_scores.append(real_score.mean().item())\n",
    "            fake_scores.append(fake_score.mean().item())\n",
    "            print('Epoch [{}/{}], Step [{}/{}], d_loss: {:.4f}, g_loss: {:.4f}, D(x): {:.2f}, D(G(z)): {:.2f}' \n",
    "                  .format(epoch, num_epochs, i+1, total_step, d_loss.item(), g_loss.item(), \n",
    "                          real_score.mean().item(), fake_score.mean().item()))\n",
    "        \n",
    "    # Save the generated fake images\n",
    "    save_fake_images(epoch+1)"
   ]
  },
  {
   "cell_type": "markdown",
   "metadata": {
    "id": "Uye-gvzo9asX"
   },
   "source": [
    "Now that we have trained the models, we can save it."
   ]
  },
  {
   "cell_type": "code",
   "execution_count": 18,
   "metadata": {
    "id": "_E0skmUI9asX"
   },
   "outputs": [],
   "source": [
    "# Save the model checkpoints \n",
    "torch.save(G.state_dict(), 'G')\n",
    "torch.save(D.state_dict(), 'D')"
   ]
  },
  {
   "cell_type": "markdown",
   "metadata": {
    "id": "HkpC3b5G9asX"
   },
   "source": [
    "Here's how the generated images look, after the 1st, 50th, 80th and 100th epochs of training."
   ]
  },
  {
   "cell_type": "code",
   "execution_count": 19,
   "metadata": {
    "colab": {
     "base_uri": "https://localhost:8080/",
     "height": 319
    },
    "id": "WoROebZa9asX",
    "outputId": "383682a5-c12b-4613-882c-13a4cb9a6854"
   },
   "outputs": [
    {
     "data": {
      "image/png": "[encoded data removed]",
      "text/plain": [
       "<IPython.core.display.Image object>"
      ]
     },
     "execution_count": 19,
     "metadata": {},
     "output_type": "execute_result"
    }
   ],
   "source": [
    "Image('./samples/fake_images-0001.png')"
   ]
  },
  {
   "cell_type": "code",
   "execution_count": 20,
   "metadata": {
    "colab": {
     "base_uri": "https://localhost:8080/",
     "height": 319
    },
    "id": "ZSQ5JGlj9asX",
    "outputId": "52d9ff06-9065-4838-cac1-89fc73967992"
   },
   "outputs": [
    {
     "data": {
      "image/png": "[encoded data removed]",
      "text/plain": [
       "<IPython.core.display.Image object>"
      ]
     },
     "execution_count": 20,
     "metadata": {},
     "output_type": "execute_result"
    }
   ],
   "source": [
    "Image('./samples/fake_images-0050.png')"
   ]
  },
  {
   "cell_type": "code",
   "execution_count": 21,
   "metadata": {
    "colab": {
     "base_uri": "https://localhost:8080/",
     "height": 319
    },
    "id": "rmU2za6D9asX",
    "outputId": "9c1df7a4-96a6-4bfa-c3b4-acb0350de9b3"
   },
   "outputs": [
    {
     "data": {
      "image/png": "[encoded data removed]",
      "text/plain": [
       "<IPython.core.display.Image object>"
      ]
     },
     "execution_count": 21,
     "metadata": {},
     "output_type": "execute_result"
    }
   ],
   "source": [
    "Image('./samples/fake_images-0080.png')"
   ]
  },
  {
   "cell_type": "code",
   "execution_count": 22,
   "metadata": {
    "colab": {
     "base_uri": "https://localhost:8080/",
     "height": 319
    },
    "id": "aTxF3keT9asX",
    "outputId": "306145ca-221c-4dc4-ed6a-c4b6f3f2b07c"
   },
   "outputs": [
    {
     "data": {
      "image/png": "[encoded data removed]",
      "text/plain": [
       "<IPython.core.display.Image object>"
      ]
     },
     "execution_count": 22,
     "metadata": {},
     "output_type": "execute_result"
    }
   ],
   "source": [
    "Image('./samples/fake_images-0100.png')"
   ]
  },
  {
   "cell_type": "markdown",
   "metadata": {
    "id": "1z_xEwv19asX"
   },
   "source": [
    "We can visualize the training process by combining the sample images generated after each epoch into a video using OpenCV."
   ]
  },
  {
   "cell_type": "code",
   "execution_count": 23,
   "metadata": {
    "colab": {
     "base_uri": "https://localhost:8080/",
     "height": 34
    },
    "id": "5HZ1nw-W9asX",
    "outputId": "03dc6922-1111-4b85-a572-c0b9b630519b"
   },
   "outputs": [
    {
     "data": {
      "text/html": [
       "<a href='gans_training.avi' target='_blank'>gans_training.avi</a><br>"
      ],
      "text/plain": [
       "/content/gans_training.avi"
      ]
     },
     "execution_count": 23,
     "metadata": {},
     "output_type": "execute_result"
    }
   ],
   "source": [
    "vid_fname = 'gans_training.avi'\n",
    "\n",
    "files = [os.path.join(sample_dir, f) for f in os.listdir(sample_dir) if 'fake_images' in f]\n",
    "files.sort()\n",
    "\n",
    "out = cv2.VideoWriter(vid_fname,cv2.VideoWriter_fourcc(*'MP4V'), 8, (302,302))\n",
    "[out.write(cv2.imread(fname)) for fname in files]\n",
    "out.release()\n",
    "FileLink('gans_training.avi')"
   ]
  },
  {
   "cell_type": "markdown",
   "metadata": {
    "id": "8hU6Y0Xd9asX"
   },
   "source": [
    "We can also visualize how the loss changes over time. Visualizing losses is quite useful for debugging the training process. For GANs, we expect the generator's loss to reduce over time, without the discriminator's loss getting too high."
   ]
  },
  {
   "cell_type": "code",
   "execution_count": 24,
   "metadata": {
    "colab": {
     "base_uri": "https://localhost:8080/",
     "height": 295
    },
    "id": "cUXLdSC39asY",
    "outputId": "c7ffe64b-4169-46c7-da39-dfb16fe9cfcb"
   },
   "outputs": [
    {
     "data": {
      "image/png": "[encoded data removed]",
      "text/plain": [
       "<Figure size 432x288 with 1 Axes>"
      ]
     },
     "metadata": {
      "needs_background": "light"
     },
     "output_type": "display_data"
    }
   ],
   "source": [
    "# Plot the discriminator and generator losses\n",
    "plt.plot(d_losses, '-')\n",
    "plt.plot(g_losses, '-')\n",
    "\n",
    "# Set the x-axis label to 'epoch'\n",
    "plt.xlabel('epoch')\n",
    "\n",
    "# Set the y-axis label to 'loss'\n",
    "plt.ylabel('loss')\n",
    "\n",
    "# Create a legend for the plot with labels 'Discriminator' and 'Generator'\n",
    "plt.legend(['Discriminator', 'Generator'])\n",
    "\n",
    "# Set the title of the plot to 'Losses'\n",
    "plt.title('Losses');"
   ]
  },
  {
   "cell_type": "code",
   "execution_count": 25,
   "metadata": {
    "colab": {
     "base_uri": "https://localhost:8080/",
     "height": 295
    },
    "id": "5UoiVtZq9asY",
    "outputId": "deda2746-957e-4c48-ca67-66e277b2c697"
   },
   "outputs": [
    {
     "data": {
      "image/png": "[encoded data removed]",
      "text/plain": [
       "<Figure size 432x288 with 1 Axes>"
      ]
     },
     "metadata": {
      "needs_background": "light"
     },
     "output_type": "display_data"
    }
   ],
   "source": [
    "# Plot the real and fake scores\n",
    "plt.plot(real_scores, '-')\n",
    "plt.plot(fake_scores, '-')\n",
    "\n",
    "# Set the x-axis label to 'epoch'\n",
    "plt.xlabel('epoch')\n",
    "\n",
    "# Set the y-axis label to 'score'\n",
    "plt.ylabel('score')\n",
    "\n",
    "# Create a legend for the plot with labels 'Real Score' and 'Fake score'\n",
    "plt.legend(['Real Score', 'Fake score'])\n",
    "\n",
    "# Set the title of the plot to 'Scores'\n",
    "plt.title('Scores');"
   ]
  },
  {
   "cell_type": "markdown",
   "metadata": {
    "id": "baTDr0eRPhgN"
   },
   "source": [
    "# References\n",
    "\n",
    "1.\tAudichya, P., D. Gupta, and A. Singh. Generative Adversarial Networks: Models and Techniques-A Review. in 2022 IEEE World Conference on Applied Intelligence and Computing (AIC). 2022. IEEE.\n",
    "2.\tVishwakarma, D.K. Comparative analysis of deep convolutional generative adversarial network and conditional generative adversarial network using hand written digits. in 2020 4th International Conference on Intelligent Computing and Control Systems (ICICCS). 2020. IEEE.\n",
    "3.\tFan, Z. and J. Hu. Review and Prospect of Research on Generative Adversarial Networks. in 2019 IEEE 11th International Conference on Communication Software and Networks (ICCSN). 2019. IEEE.\n",
    "4.\tWu, C. Performance Review of Generative Adversarial Network for a Bi-directional Task. in 2021 International Conference on Signal Processing and Machine Learning (CONF-SPML). 2021. IEEE.\n",
    "5.\tGoodfellow, I., et al., Advances in neural information processing systems. Curran Associates, Inc, 2014. 27: p. 2672-2680.\n",
    "6.\tGoodfellow, I., et al., Generative adversarial networks. Communications of the ACM, 2020. 63(11): p. 139-144.\n",
    "7.\tGoodfellow, I.J., et al., Generative adversarial networks. Commun. Acm, 2020. 63(11): p. 139-144.\n",
    "8.\tLiu, Z., et al. Research on extended image data set based on deep convolution Generative Adversarial Network. in 2020 IEEE 4th Information Technology, Networking, Electronic and Automation Control Conference (ITNEC). 2020. IEEE.\n",
    "9.\tWang, L., et al., A state-of-the-art review on image synthesis with generative adversarial networks. IEEE Access, 2020. 8: p. 63514-63537.\n",
    "10.\tLiu, S., et al. Face aging with contextual generative adversarial nets. in Proceedings of the 25th ACM international conference on Multimedia. 2017.\n",
    "11.\tIsola, P., et al. Image-to-image translation with conditional adversarial networks. in Proceedings of the IEEE conference on computer vision and pattern recognition. 2017.\n",
    "12.\tOdena, A., C. Olah, and J. Shlens. Conditional image synthesis with auxiliary classifier gans. in International conference on machine learning. 2017. PMLR.\n",
    "13.\tBerthelot, D., T. Schumm, and L. Metz, Began: Boundary equilibrium generative adversarial networks. arXiv preprint arXiv:1703.10717, 2017.\n",
    "14.\tCao, Y.-J., et al., Recent advances of generative adversarial networks in computer vision. IEEE Access, 2018. 7: p. 14985-15006.\n",
    "15.\tLeCun, Y., Y. Bengio, and G. Hinton, Deep learning. nature, 521 (7553), 436-444. Google Scholar Google Scholar Cross Ref Cross Ref, 2015: p. 25.\n",
    "16. \tN. Kodali, J. Abernethy, J. Hays, and Z. Kira, “On convergence and stability of gans,” arXiv preprint arXiv:1705.07215, 2017.\n",
    "17.\tM. Mirza and S. Osindero, “Conditional generative adversarial nets,” arXiv preprint arXiv:1411.1784, 2014.\n",
    "18. \tM. Arjovsky, S. Chintala, and L. Bottou, “Wasserstein generative adversarial networks,” in International conference on machine learning, 2017, pp. 214–223.\n",
    "19.\tJ.-Y. Zhu, T. Park, P. Isola, and A. A. Efros, “Unpaired image-to-image translation using cycle-consistent adversarial networks,” in Proceedings of the IEEE international conference on computer vision, 2017, pp. 2223–2232.\n",
    "20. \tT. Karras, T. Aila, S. Laine, and J. Lehtinen, “Progressive growing of gans for improved quality, stability, and variation,” arXiv preprint arXiv:1710.10196, 2017.\n",
    "\n"
   ]
  }
 ],
 "metadata": {
  "accelerator": "GPU",
  "colab": {
   "provenance": []
  },
  "gpuClass": "standard",
  "kernelspec": {
   "display_name": "Python 3 (ipykernel)",
   "language": "python",
   "name": "python3"
  },
  "language_info": {
   "codemirror_mode": {
    "name": "ipython",
    "version": 3
   },
   "file_extension": ".py",
   "mimetype": "text/x-python",
   "name": "python",
   "nbconvert_exporter": "python",
   "pygments_lexer": "ipython3",
   "version": "3.9.12"
  },
  "widgets": {
   "application/vnd.jupyter.widget-state+json": {
    "02250478314d44bb987b5454af5c91a3": {
     "model_module": "@jupyter-widgets/controls",
     "model_module_version": "1.5.0",
     "model_name": "FloatProgressModel",
     "state": {
      "_dom_classes": [],
      "_model_module": "@jupyter-widgets/controls",
      "_model_module_version": "1.5.0",
      "_model_name": "FloatProgressModel",
      "_view_count": null,
      "_view_module": "@jupyter-widgets/controls",
      "_view_module_version": "1.5.0",
      "_view_name": "ProgressView",
      "bar_style": "success",
      "description": "",
      "description_tooltip": null,
      "layout": "IPY_MODEL_0a098ebc73ff4cfaa7db4a3761dcc14f",
      "max": 1648877,
      "min": 0,
      "orientation": "horizontal",
      "style": "IPY_MODEL_63712e13f0594c5f948caba1756e4a30",
      "value": 1648877
     }
    },
    "0a098ebc73ff4cfaa7db4a3761dcc14f": {
     "model_module": "@jupyter-widgets/base",
     "model_module_version": "1.2.0",
     "model_name": "LayoutModel",
     "state": {
      "_model_module": "@jupyter-widgets/base",
      "_model_module_version": "1.2.0",
      "_model_name": "LayoutModel",
      "_view_count": null,
      "_view_module": "@jupyter-widgets/base",
      "_view_module_version": "1.2.0",
      "_view_name": "LayoutView",
      "align_content": null,
      "align_items": null,
      "align_self": null,
      "border": null,
      "bottom": null,
      "display": null,
      "flex": null,
      "flex_flow": null,
      "grid_area": null,
      "grid_auto_columns": null,
      "grid_auto_flow": null,
      "grid_auto_rows": null,
      "grid_column": null,
      "grid_gap": null,
      "grid_row": null,
      "grid_template_areas": null,
      "grid_template_columns": null,
      "grid_template_rows": null,
      "height": null,
      "justify_content": null,
      "justify_items": null,
      "left": null,
      "margin": null,
      "max_height": null,
      "max_width": null,
      "min_height": null,
      "min_width": null,
      "object_fit": null,
      "object_position": null,
      "order": null,
      "overflow": null,
      "overflow_x": null,
      "overflow_y": null,
      "padding": null,
      "right": null,
      "top": null,
      "visibility": null,
      "width": null
     }
    },
    "0de43443c47a429a80fff876fe4a346d": {
     "model_module": "@jupyter-widgets/base",
     "model_module_version": "1.2.0",
     "model_name": "LayoutModel",
     "state": {
      "_model_module": "@jupyter-widgets/base",
      "_model_module_version": "1.2.0",
      "_model_name": "LayoutModel",
      "_view_count": null,
      "_view_module": "@jupyter-widgets/base",
      "_view_module_version": "1.2.0",
      "_view_name": "LayoutView",
      "align_content": null,
      "align_items": null,
      "align_self": null,
      "border": null,
      "bottom": null,
      "display": null,
      "flex": null,
      "flex_flow": null,
      "grid_area": null,
      "grid_auto_columns": null,
      "grid_auto_flow": null,
      "grid_auto_rows": null,
      "grid_column": null,
      "grid_gap": null,
      "grid_row": null,
      "grid_template_areas": null,
      "grid_template_columns": null,
      "grid_template_rows": null,
      "height": null,
      "justify_content": null,
      "justify_items": null,
      "left": null,
      "margin": null,
      "max_height": null,
      "max_width": null,
      "min_height": null,
      "min_width": null,
      "object_fit": null,
      "object_position": null,
      "order": null,
      "overflow": null,
      "overflow_x": null,
      "overflow_y": null,
      "padding": null,
      "right": null,
      "top": null,
      "visibility": null,
      "width": null
     }
    },
    "163ff7c478954e3082326c076babcf29": {
     "model_module": "@jupyter-widgets/base",
     "model_module_version": "1.2.0",
     "model_name": "LayoutModel",
     "state": {
      "_model_module": "@jupyter-widgets/base",
      "_model_module_version": "1.2.0",
      "_model_name": "LayoutModel",
      "_view_count": null,
      "_view_module": "@jupyter-widgets/base",
      "_view_module_version": "1.2.0",
      "_view_name": "LayoutView",
      "align_content": null,
      "align_items": null,
      "align_self": null,
      "border": null,
      "bottom": null,
      "display": null,
      "flex": null,
      "flex_flow": null,
      "grid_area": null,
      "grid_auto_columns": null,
      "grid_auto_flow": null,
      "grid_auto_rows": null,
      "grid_column": null,
      "grid_gap": null,
      "grid_row": null,
      "grid_template_areas": null,
      "grid_template_columns": null,
      "grid_template_rows": null,
      "height": null,
      "justify_content": null,
      "justify_items": null,
      "left": null,
      "margin": null,
      "max_height": null,
      "max_width": null,
      "min_height": null,
      "min_width": null,
      "object_fit": null,
      "object_position": null,
      "order": null,
      "overflow": null,
      "overflow_x": null,
      "overflow_y": null,
      "padding": null,
      "right": null,
      "top": null,
      "visibility": null,
      "width": null
     }
    },
    "18febfa999444130acaaa44dcd1cc558": {
     "model_module": "@jupyter-widgets/controls",
     "model_module_version": "1.5.0",
     "model_name": "HBoxModel",
     "state": {
      "_dom_classes": [],
      "_model_module": "@jupyter-widgets/controls",
      "_model_module_version": "1.5.0",
      "_model_name": "HBoxModel",
      "_view_count": null,
      "_view_module": "@jupyter-widgets/controls",
      "_view_module_version": "1.5.0",
      "_view_name": "HBoxView",
      "box_style": "",
      "children": [
       "IPY_MODEL_ceba11e2553240d6a32c3dcf7f34ca5b",
       "IPY_MODEL_2083f09189624eeea82e8f2f87ea5511",
       "IPY_MODEL_381c69e3021941d2b5b539381c37a8c3"
      ],
      "layout": "IPY_MODEL_e2ec16b501af430daa72cf72eca00fa7"
     }
    },
    "2083f09189624eeea82e8f2f87ea5511": {
     "model_module": "@jupyter-widgets/controls",
     "model_module_version": "1.5.0",
     "model_name": "FloatProgressModel",
     "state": {
      "_dom_classes": [],
      "_model_module": "@jupyter-widgets/controls",
      "_model_module_version": "1.5.0",
      "_model_name": "FloatProgressModel",
      "_view_count": null,
      "_view_module": "@jupyter-widgets/controls",
      "_view_module_version": "1.5.0",
      "_view_name": "ProgressView",
      "bar_style": "success",
      "description": "",
      "description_tooltip": null,
      "layout": "IPY_MODEL_163ff7c478954e3082326c076babcf29",
      "max": 9912422,
      "min": 0,
      "orientation": "horizontal",
      "style": "IPY_MODEL_2e1b972944ed419981084bc2fdef6dd6",
      "value": 9912422
     }
    },
    "23bb95a94e6f45a9bf46e7290522bcb5": {
     "model_module": "@jupyter-widgets/base",
     "model_module_version": "1.2.0",
     "model_name": "LayoutModel",
     "state": {
      "_model_module": "@jupyter-widgets/base",
      "_model_module_version": "1.2.0",
      "_model_name": "LayoutModel",
      "_view_count": null,
      "_view_module": "@jupyter-widgets/base",
      "_view_module_version": "1.2.0",
      "_view_name": "LayoutView",
      "align_content": null,
      "align_items": null,
      "align_self": null,
      "border": null,
      "bottom": null,
      "display": null,
      "flex": null,
      "flex_flow": null,
      "grid_area": null,
      "grid_auto_columns": null,
      "grid_auto_flow": null,
      "grid_auto_rows": null,
      "grid_column": null,
      "grid_gap": null,
      "grid_row": null,
      "grid_template_areas": null,
      "grid_template_columns": null,
      "grid_template_rows": null,
      "height": null,
      "justify_content": null,
      "justify_items": null,
      "left": null,
      "margin": null,
      "max_height": null,
      "max_width": null,
      "min_height": null,
      "min_width": null,
      "object_fit": null,
      "object_position": null,
      "order": null,
      "overflow": null,
      "overflow_x": null,
      "overflow_y": null,
      "padding": null,
      "right": null,
      "top": null,
      "visibility": null,
      "width": null
     }
    },
    "28bc818aedf0414b89b2e31f1f1c248c": {
     "model_module": "@jupyter-widgets/controls",
     "model_module_version": "1.5.0",
     "model_name": "HBoxModel",
     "state": {
      "_dom_classes": [],
      "_model_module": "@jupyter-widgets/controls",
      "_model_module_version": "1.5.0",
      "_model_name": "HBoxModel",
      "_view_count": null,
      "_view_module": "@jupyter-widgets/controls",
      "_view_module_version": "1.5.0",
      "_view_name": "HBoxView",
      "box_style": "",
      "children": [
       "IPY_MODEL_cf122b78563643a6b91f2120ceecd272",
       "IPY_MODEL_f4a8e550948c42ddb054eb5d63f70cf6",
       "IPY_MODEL_eca0d533702d4d759f42bf7bb1c5c1b1"
      ],
      "layout": "IPY_MODEL_23bb95a94e6f45a9bf46e7290522bcb5"
     }
    },
    "2e1b972944ed419981084bc2fdef6dd6": {
     "model_module": "@jupyter-widgets/controls",
     "model_module_version": "1.5.0",
     "model_name": "ProgressStyleModel",
     "state": {
      "_model_module": "@jupyter-widgets/controls",
      "_model_module_version": "1.5.0",
      "_model_name": "ProgressStyleModel",
      "_view_count": null,
      "_view_module": "@jupyter-widgets/base",
      "_view_module_version": "1.2.0",
      "_view_name": "StyleView",
      "bar_color": null,
      "description_width": ""
     }
    },
    "2f0a1b9c8fa74e22982b374bda797512": {
     "model_module": "@jupyter-widgets/base",
     "model_module_version": "1.2.0",
     "model_name": "LayoutModel",
     "state": {
      "_model_module": "@jupyter-widgets/base",
      "_model_module_version": "1.2.0",
      "_model_name": "LayoutModel",
      "_view_count": null,
      "_view_module": "@jupyter-widgets/base",
      "_view_module_version": "1.2.0",
      "_view_name": "LayoutView",
      "align_content": null,
      "align_items": null,
      "align_self": null,
      "border": null,
      "bottom": null,
      "display": null,
      "flex": null,
      "flex_flow": null,
      "grid_area": null,
      "grid_auto_columns": null,
      "grid_auto_flow": null,
      "grid_auto_rows": null,
      "grid_column": null,
      "grid_gap": null,
      "grid_row": null,
      "grid_template_areas": null,
      "grid_template_columns": null,
      "grid_template_rows": null,
      "height": null,
      "justify_content": null,
      "justify_items": null,
      "left": null,
      "margin": null,
      "max_height": null,
      "max_width": null,
      "min_height": null,
      "min_width": null,
      "object_fit": null,
      "object_position": null,
      "order": null,
      "overflow": null,
      "overflow_x": null,
      "overflow_y": null,
      "padding": null,
      "right": null,
      "top": null,
      "visibility": null,
      "width": null
     }
    },
    "33d9e8e1acff4df9b3b8f47c1af70552": {
     "model_module": "@jupyter-widgets/controls",
     "model_module_version": "1.5.0",
     "model_name": "HTMLModel",
     "state": {
      "_dom_classes": [],
      "_model_module": "@jupyter-widgets/controls",
      "_model_module_version": "1.5.0",
      "_model_name": "HTMLModel",
      "_view_count": null,
      "_view_module": "@jupyter-widgets/controls",
      "_view_module_version": "1.5.0",
      "_view_name": "HTMLView",
      "description": "",
      "description_tooltip": null,
      "layout": "IPY_MODEL_bbc0cc1b93154586abc84b3e0d7a622d",
      "placeholder": "​",
      "style": "IPY_MODEL_6065077bacba4dc6822f4f922ee72c49",
      "value": " 1648877/1648877 [00:00&lt;00:00, 6079499.71it/s]"
     }
    },
    "381c69e3021941d2b5b539381c37a8c3": {
     "model_module": "@jupyter-widgets/controls",
     "model_module_version": "1.5.0",
     "model_name": "HTMLModel",
     "state": {
      "_dom_classes": [],
      "_model_module": "@jupyter-widgets/controls",
      "_model_module_version": "1.5.0",
      "_model_name": "HTMLModel",
      "_view_count": null,
      "_view_module": "@jupyter-widgets/controls",
      "_view_module_version": "1.5.0",
      "_view_name": "HTMLView",
      "description": "",
      "description_tooltip": null,
      "layout": "IPY_MODEL_d9e7928605a84aa6ac97432f964d7f02",
      "placeholder": "​",
      "style": "IPY_MODEL_a68e454a0a41424987bbf29b6805f363",
      "value": " 9912422/9912422 [00:00&lt;00:00, 25198666.10it/s]"
     }
    },
    "3fae60532b124b91ba0467dcf85ee940": {
     "model_module": "@jupyter-widgets/controls",
     "model_module_version": "1.5.0",
     "model_name": "HTMLModel",
     "state": {
      "_dom_classes": [],
      "_model_module": "@jupyter-widgets/controls",
      "_model_module_version": "1.5.0",
      "_model_name": "HTMLModel",
      "_view_count": null,
      "_view_module": "@jupyter-widgets/controls",
      "_view_module_version": "1.5.0",
      "_view_name": "HTMLView",
      "description": "",
      "description_tooltip": null,
      "layout": "IPY_MODEL_2f0a1b9c8fa74e22982b374bda797512",
      "placeholder": "​",
      "style": "IPY_MODEL_4ed1d90cc2da4337a1582ae79809f37d",
      "value": "100%"
     }
    },
    "42dc50cad0b940f7893636a76805a3e3": {
     "model_module": "@jupyter-widgets/controls",
     "model_module_version": "1.5.0",
     "model_name": "ProgressStyleModel",
     "state": {
      "_model_module": "@jupyter-widgets/controls",
      "_model_module_version": "1.5.0",
      "_model_name": "ProgressStyleModel",
      "_view_count": null,
      "_view_module": "@jupyter-widgets/base",
      "_view_module_version": "1.2.0",
      "_view_name": "StyleView",
      "bar_color": null,
      "description_width": ""
     }
    },
    "4ed1d90cc2da4337a1582ae79809f37d": {
     "model_module": "@jupyter-widgets/controls",
     "model_module_version": "1.5.0",
     "model_name": "DescriptionStyleModel",
     "state": {
      "_model_module": "@jupyter-widgets/controls",
      "_model_module_version": "1.5.0",
      "_model_name": "DescriptionStyleModel",
      "_view_count": null,
      "_view_module": "@jupyter-widgets/base",
      "_view_module_version": "1.2.0",
      "_view_name": "StyleView",
      "description_width": ""
     }
    },
    "52526a47602f4fa28d4a82c99a22638e": {
     "model_module": "@jupyter-widgets/base",
     "model_module_version": "1.2.0",
     "model_name": "LayoutModel",
     "state": {
      "_model_module": "@jupyter-widgets/base",
      "_model_module_version": "1.2.0",
      "_model_name": "LayoutModel",
      "_view_count": null,
      "_view_module": "@jupyter-widgets/base",
      "_view_module_version": "1.2.0",
      "_view_name": "LayoutView",
      "align_content": null,
      "align_items": null,
      "align_self": null,
      "border": null,
      "bottom": null,
      "display": null,
      "flex": null,
      "flex_flow": null,
      "grid_area": null,
      "grid_auto_columns": null,
      "grid_auto_flow": null,
      "grid_auto_rows": null,
      "grid_column": null,
      "grid_gap": null,
      "grid_row": null,
      "grid_template_areas": null,
      "grid_template_columns": null,
      "grid_template_rows": null,
      "height": null,
      "justify_content": null,
      "justify_items": null,
      "left": null,
      "margin": null,
      "max_height": null,
      "max_width": null,
      "min_height": null,
      "min_width": null,
      "object_fit": null,
      "object_position": null,
      "order": null,
      "overflow": null,
      "overflow_x": null,
      "overflow_y": null,
      "padding": null,
      "right": null,
      "top": null,
      "visibility": null,
      "width": null
     }
    },
    "539999f9e68448d196bcb8bc65dbf96e": {
     "model_module": "@jupyter-widgets/controls",
     "model_module_version": "1.5.0",
     "model_name": "DescriptionStyleModel",
     "state": {
      "_model_module": "@jupyter-widgets/controls",
      "_model_module_version": "1.5.0",
      "_model_name": "DescriptionStyleModel",
      "_view_count": null,
      "_view_module": "@jupyter-widgets/base",
      "_view_module_version": "1.2.0",
      "_view_name": "StyleView",
      "description_width": ""
     }
    },
    "5ee46884fc4e420c9b737968736e84d3": {
     "model_module": "@jupyter-widgets/base",
     "model_module_version": "1.2.0",
     "model_name": "LayoutModel",
     "state": {
      "_model_module": "@jupyter-widgets/base",
      "_model_module_version": "1.2.0",
      "_model_name": "LayoutModel",
      "_view_count": null,
      "_view_module": "@jupyter-widgets/base",
      "_view_module_version": "1.2.0",
      "_view_name": "LayoutView",
      "align_content": null,
      "align_items": null,
      "align_self": null,
      "border": null,
      "bottom": null,
      "display": null,
      "flex": null,
      "flex_flow": null,
      "grid_area": null,
      "grid_auto_columns": null,
      "grid_auto_flow": null,
      "grid_auto_rows": null,
      "grid_column": null,
      "grid_gap": null,
      "grid_row": null,
      "grid_template_areas": null,
      "grid_template_columns": null,
      "grid_template_rows": null,
      "height": null,
      "justify_content": null,
      "justify_items": null,
      "left": null,
      "margin": null,
      "max_height": null,
      "max_width": null,
      "min_height": null,
      "min_width": null,
      "object_fit": null,
      "object_position": null,
      "order": null,
      "overflow": null,
      "overflow_x": null,
      "overflow_y": null,
      "padding": null,
      "right": null,
      "top": null,
      "visibility": null,
      "width": null
     }
    },
    "6065077bacba4dc6822f4f922ee72c49": {
     "model_module": "@jupyter-widgets/controls",
     "model_module_version": "1.5.0",
     "model_name": "DescriptionStyleModel",
     "state": {
      "_model_module": "@jupyter-widgets/controls",
      "_model_module_version": "1.5.0",
      "_model_name": "DescriptionStyleModel",
      "_view_count": null,
      "_view_module": "@jupyter-widgets/base",
      "_view_module_version": "1.2.0",
      "_view_name": "StyleView",
      "description_width": ""
     }
    },
    "63712e13f0594c5f948caba1756e4a30": {
     "model_module": "@jupyter-widgets/controls",
     "model_module_version": "1.5.0",
     "model_name": "ProgressStyleModel",
     "state": {
      "_model_module": "@jupyter-widgets/controls",
      "_model_module_version": "1.5.0",
      "_model_name": "ProgressStyleModel",
      "_view_count": null,
      "_view_module": "@jupyter-widgets/base",
      "_view_module_version": "1.2.0",
      "_view_name": "StyleView",
      "bar_color": null,
      "description_width": ""
     }
    },
    "6781ff91dda241f5b4045865508a7a3e": {
     "model_module": "@jupyter-widgets/controls",
     "model_module_version": "1.5.0",
     "model_name": "HTMLModel",
     "state": {
      "_dom_classes": [],
      "_model_module": "@jupyter-widgets/controls",
      "_model_module_version": "1.5.0",
      "_model_name": "HTMLModel",
      "_view_count": null,
      "_view_module": "@jupyter-widgets/controls",
      "_view_module_version": "1.5.0",
      "_view_name": "HTMLView",
      "description": "",
      "description_tooltip": null,
      "layout": "IPY_MODEL_be9b274aa9bb4425bdf0659c403d46f9",
      "placeholder": "​",
      "style": "IPY_MODEL_b24b08edb3db4a0ba3e8f6c6c0142947",
      "value": "100%"
     }
    },
    "6a9789c3c68142c6bfba3259ba4c543f": {
     "model_module": "@jupyter-widgets/controls",
     "model_module_version": "1.5.0",
     "model_name": "DescriptionStyleModel",
     "state": {
      "_model_module": "@jupyter-widgets/controls",
      "_model_module_version": "1.5.0",
      "_model_name": "DescriptionStyleModel",
      "_view_count": null,
      "_view_module": "@jupyter-widgets/base",
      "_view_module_version": "1.2.0",
      "_view_name": "StyleView",
      "description_width": ""
     }
    },
    "6b311c7de3854717a0a31861c4903147": {
     "model_module": "@jupyter-widgets/controls",
     "model_module_version": "1.5.0",
     "model_name": "FloatProgressModel",
     "state": {
      "_dom_classes": [],
      "_model_module": "@jupyter-widgets/controls",
      "_model_module_version": "1.5.0",
      "_model_name": "FloatProgressModel",
      "_view_count": null,
      "_view_module": "@jupyter-widgets/controls",
      "_view_module_version": "1.5.0",
      "_view_name": "ProgressView",
      "bar_style": "success",
      "description": "",
      "description_tooltip": null,
      "layout": "IPY_MODEL_0de43443c47a429a80fff876fe4a346d",
      "max": 28881,
      "min": 0,
      "orientation": "horizontal",
      "style": "IPY_MODEL_42dc50cad0b940f7893636a76805a3e3",
      "value": 28881
     }
    },
    "984e4c0d634d4773ac8c31d4a2e4991c": {
     "model_module": "@jupyter-widgets/controls",
     "model_module_version": "1.5.0",
     "model_name": "DescriptionStyleModel",
     "state": {
      "_model_module": "@jupyter-widgets/controls",
      "_model_module_version": "1.5.0",
      "_model_name": "DescriptionStyleModel",
      "_view_count": null,
      "_view_module": "@jupyter-widgets/base",
      "_view_module_version": "1.2.0",
      "_view_name": "StyleView",
      "description_width": ""
     }
    },
    "a68e454a0a41424987bbf29b6805f363": {
     "model_module": "@jupyter-widgets/controls",
     "model_module_version": "1.5.0",
     "model_name": "DescriptionStyleModel",
     "state": {
      "_model_module": "@jupyter-widgets/controls",
      "_model_module_version": "1.5.0",
      "_model_name": "DescriptionStyleModel",
      "_view_count": null,
      "_view_module": "@jupyter-widgets/base",
      "_view_module_version": "1.2.0",
      "_view_name": "StyleView",
      "description_width": ""
     }
    },
    "ab3395166a9641039a04141404a71595": {
     "model_module": "@jupyter-widgets/base",
     "model_module_version": "1.2.0",
     "model_name": "LayoutModel",
     "state": {
      "_model_module": "@jupyter-widgets/base",
      "_model_module_version": "1.2.0",
      "_model_name": "LayoutModel",
      "_view_count": null,
      "_view_module": "@jupyter-widgets/base",
      "_view_module_version": "1.2.0",
      "_view_name": "LayoutView",
      "align_content": null,
      "align_items": null,
      "align_self": null,
      "border": null,
      "bottom": null,
      "display": null,
      "flex": null,
      "flex_flow": null,
      "grid_area": null,
      "grid_auto_columns": null,
      "grid_auto_flow": null,
      "grid_auto_rows": null,
      "grid_column": null,
      "grid_gap": null,
      "grid_row": null,
      "grid_template_areas": null,
      "grid_template_columns": null,
      "grid_template_rows": null,
      "height": null,
      "justify_content": null,
      "justify_items": null,
      "left": null,
      "margin": null,
      "max_height": null,
      "max_width": null,
      "min_height": null,
      "min_width": null,
      "object_fit": null,
      "object_position": null,
      "order": null,
      "overflow": null,
      "overflow_x": null,
      "overflow_y": null,
      "padding": null,
      "right": null,
      "top": null,
      "visibility": null,
      "width": null
     }
    },
    "b00223236383467cbe886d3f6ec44b1a": {
     "model_module": "@jupyter-widgets/controls",
     "model_module_version": "1.5.0",
     "model_name": "DescriptionStyleModel",
     "state": {
      "_model_module": "@jupyter-widgets/controls",
      "_model_module_version": "1.5.0",
      "_model_name": "DescriptionStyleModel",
      "_view_count": null,
      "_view_module": "@jupyter-widgets/base",
      "_view_module_version": "1.2.0",
      "_view_name": "StyleView",
      "description_width": ""
     }
    },
    "b24b08edb3db4a0ba3e8f6c6c0142947": {
     "model_module": "@jupyter-widgets/controls",
     "model_module_version": "1.5.0",
     "model_name": "DescriptionStyleModel",
     "state": {
      "_model_module": "@jupyter-widgets/controls",
      "_model_module_version": "1.5.0",
      "_model_name": "DescriptionStyleModel",
      "_view_count": null,
      "_view_module": "@jupyter-widgets/base",
      "_view_module_version": "1.2.0",
      "_view_name": "StyleView",
      "description_width": ""
     }
    },
    "bb2a4baed73b4d4fa0e8e3e43a75d44d": {
     "model_module": "@jupyter-widgets/controls",
     "model_module_version": "1.5.0",
     "model_name": "HBoxModel",
     "state": {
      "_dom_classes": [],
      "_model_module": "@jupyter-widgets/controls",
      "_model_module_version": "1.5.0",
      "_model_name": "HBoxModel",
      "_view_count": null,
      "_view_module": "@jupyter-widgets/controls",
      "_view_module_version": "1.5.0",
      "_view_name": "HBoxView",
      "box_style": "",
      "children": [
       "IPY_MODEL_6781ff91dda241f5b4045865508a7a3e",
       "IPY_MODEL_02250478314d44bb987b5454af5c91a3",
       "IPY_MODEL_33d9e8e1acff4df9b3b8f47c1af70552"
      ],
      "layout": "IPY_MODEL_5ee46884fc4e420c9b737968736e84d3"
     }
    },
    "bbc0cc1b93154586abc84b3e0d7a622d": {
     "model_module": "@jupyter-widgets/base",
     "model_module_version": "1.2.0",
     "model_name": "LayoutModel",
     "state": {
      "_model_module": "@jupyter-widgets/base",
      "_model_module_version": "1.2.0",
      "_model_name": "LayoutModel",
      "_view_count": null,
      "_view_module": "@jupyter-widgets/base",
      "_view_module_version": "1.2.0",
      "_view_name": "LayoutView",
      "align_content": null,
      "align_items": null,
      "align_self": null,
      "border": null,
      "bottom": null,
      "display": null,
      "flex": null,
      "flex_flow": null,
      "grid_area": null,
      "grid_auto_columns": null,
      "grid_auto_flow": null,
      "grid_auto_rows": null,
      "grid_column": null,
      "grid_gap": null,
      "grid_row": null,
      "grid_template_areas": null,
      "grid_template_columns": null,
      "grid_template_rows": null,
      "height": null,
      "justify_content": null,
      "justify_items": null,
      "left": null,
      "margin": null,
      "max_height": null,
      "max_width": null,
      "min_height": null,
      "min_width": null,
      "object_fit": null,
      "object_position": null,
      "order": null,
      "overflow": null,
      "overflow_x": null,
      "overflow_y": null,
      "padding": null,
      "right": null,
      "top": null,
      "visibility": null,
      "width": null
     }
    },
    "be9b274aa9bb4425bdf0659c403d46f9": {
     "model_module": "@jupyter-widgets/base",
     "model_module_version": "1.2.0",
     "model_name": "LayoutModel",
     "state": {
      "_model_module": "@jupyter-widgets/base",
      "_model_module_version": "1.2.0",
      "_model_name": "LayoutModel",
      "_view_count": null,
      "_view_module": "@jupyter-widgets/base",
      "_view_module_version": "1.2.0",
      "_view_name": "LayoutView",
      "align_content": null,
      "align_items": null,
      "align_self": null,
      "border": null,
      "bottom": null,
      "display": null,
      "flex": null,
      "flex_flow": null,
      "grid_area": null,
      "grid_auto_columns": null,
      "grid_auto_flow": null,
      "grid_auto_rows": null,
      "grid_column": null,
      "grid_gap": null,
      "grid_row": null,
      "grid_template_areas": null,
      "grid_template_columns": null,
      "grid_template_rows": null,
      "height": null,
      "justify_content": null,
      "justify_items": null,
      "left": null,
      "margin": null,
      "max_height": null,
      "max_width": null,
      "min_height": null,
      "min_width": null,
      "object_fit": null,
      "object_position": null,
      "order": null,
      "overflow": null,
      "overflow_x": null,
      "overflow_y": null,
      "padding": null,
      "right": null,
      "top": null,
      "visibility": null,
      "width": null
     }
    },
    "c361cfe23671475a887335815f773e09": {
     "model_module": "@jupyter-widgets/base",
     "model_module_version": "1.2.0",
     "model_name": "LayoutModel",
     "state": {
      "_model_module": "@jupyter-widgets/base",
      "_model_module_version": "1.2.0",
      "_model_name": "LayoutModel",
      "_view_count": null,
      "_view_module": "@jupyter-widgets/base",
      "_view_module_version": "1.2.0",
      "_view_name": "LayoutView",
      "align_content": null,
      "align_items": null,
      "align_self": null,
      "border": null,
      "bottom": null,
      "display": null,
      "flex": null,
      "flex_flow": null,
      "grid_area": null,
      "grid_auto_columns": null,
      "grid_auto_flow": null,
      "grid_auto_rows": null,
      "grid_column": null,
      "grid_gap": null,
      "grid_row": null,
      "grid_template_areas": null,
      "grid_template_columns": null,
      "grid_template_rows": null,
      "height": null,
      "justify_content": null,
      "justify_items": null,
      "left": null,
      "margin": null,
      "max_height": null,
      "max_width": null,
      "min_height": null,
      "min_width": null,
      "object_fit": null,
      "object_position": null,
      "order": null,
      "overflow": null,
      "overflow_x": null,
      "overflow_y": null,
      "padding": null,
      "right": null,
      "top": null,
      "visibility": null,
      "width": null
     }
    },
    "c45c30e82e7b4437a95d656403b94954": {
     "model_module": "@jupyter-widgets/base",
     "model_module_version": "1.2.0",
     "model_name": "LayoutModel",
     "state": {
      "_model_module": "@jupyter-widgets/base",
      "_model_module_version": "1.2.0",
      "_model_name": "LayoutModel",
      "_view_count": null,
      "_view_module": "@jupyter-widgets/base",
      "_view_module_version": "1.2.0",
      "_view_name": "LayoutView",
      "align_content": null,
      "align_items": null,
      "align_self": null,
      "border": null,
      "bottom": null,
      "display": null,
      "flex": null,
      "flex_flow": null,
      "grid_area": null,
      "grid_auto_columns": null,
      "grid_auto_flow": null,
      "grid_auto_rows": null,
      "grid_column": null,
      "grid_gap": null,
      "grid_row": null,
      "grid_template_areas": null,
      "grid_template_columns": null,
      "grid_template_rows": null,
      "height": null,
      "justify_content": null,
      "justify_items": null,
      "left": null,
      "margin": null,
      "max_height": null,
      "max_width": null,
      "min_height": null,
      "min_width": null,
      "object_fit": null,
      "object_position": null,
      "order": null,
      "overflow": null,
      "overflow_x": null,
      "overflow_y": null,
      "padding": null,
      "right": null,
      "top": null,
      "visibility": null,
      "width": null
     }
    },
    "ceba11e2553240d6a32c3dcf7f34ca5b": {
     "model_module": "@jupyter-widgets/controls",
     "model_module_version": "1.5.0",
     "model_name": "HTMLModel",
     "state": {
      "_dom_classes": [],
      "_model_module": "@jupyter-widgets/controls",
      "_model_module_version": "1.5.0",
      "_model_name": "HTMLModel",
      "_view_count": null,
      "_view_module": "@jupyter-widgets/controls",
      "_view_module_version": "1.5.0",
      "_view_name": "HTMLView",
      "description": "",
      "description_tooltip": null,
      "layout": "IPY_MODEL_c361cfe23671475a887335815f773e09",
      "placeholder": "​",
      "style": "IPY_MODEL_b00223236383467cbe886d3f6ec44b1a",
      "value": "100%"
     }
    },
    "cf05651a471c4211a1bcffe264bf8cad": {
     "model_module": "@jupyter-widgets/controls",
     "model_module_version": "1.5.0",
     "model_name": "HBoxModel",
     "state": {
      "_dom_classes": [],
      "_model_module": "@jupyter-widgets/controls",
      "_model_module_version": "1.5.0",
      "_model_name": "HBoxModel",
      "_view_count": null,
      "_view_module": "@jupyter-widgets/controls",
      "_view_module_version": "1.5.0",
      "_view_name": "HBoxView",
      "box_style": "",
      "children": [
       "IPY_MODEL_3fae60532b124b91ba0467dcf85ee940",
       "IPY_MODEL_6b311c7de3854717a0a31861c4903147",
       "IPY_MODEL_e1dfc14a7e4444aa8db32a8b0bf968f9"
      ],
      "layout": "IPY_MODEL_d5948ac6cd274fabbc65b171e318d985"
     }
    },
    "cf122b78563643a6b91f2120ceecd272": {
     "model_module": "@jupyter-widgets/controls",
     "model_module_version": "1.5.0",
     "model_name": "HTMLModel",
     "state": {
      "_dom_classes": [],
      "_model_module": "@jupyter-widgets/controls",
      "_model_module_version": "1.5.0",
      "_model_name": "HTMLModel",
      "_view_count": null,
      "_view_module": "@jupyter-widgets/controls",
      "_view_module_version": "1.5.0",
      "_view_name": "HTMLView",
      "description": "",
      "description_tooltip": null,
      "layout": "IPY_MODEL_fe4d212534bc42b4b5a1c26bb6ba659a",
      "placeholder": "​",
      "style": "IPY_MODEL_984e4c0d634d4773ac8c31d4a2e4991c",
      "value": "100%"
     }
    },
    "d5948ac6cd274fabbc65b171e318d985": {
     "model_module": "@jupyter-widgets/base",
     "model_module_version": "1.2.0",
     "model_name": "LayoutModel",
     "state": {
      "_model_module": "@jupyter-widgets/base",
      "_model_module_version": "1.2.0",
      "_model_name": "LayoutModel",
      "_view_count": null,
      "_view_module": "@jupyter-widgets/base",
      "_view_module_version": "1.2.0",
      "_view_name": "LayoutView",
      "align_content": null,
      "align_items": null,
      "align_self": null,
      "border": null,
      "bottom": null,
      "display": null,
      "flex": null,
      "flex_flow": null,
      "grid_area": null,
      "grid_auto_columns": null,
      "grid_auto_flow": null,
      "grid_auto_rows": null,
      "grid_column": null,
      "grid_gap": null,
      "grid_row": null,
      "grid_template_areas": null,
      "grid_template_columns": null,
      "grid_template_rows": null,
      "height": null,
      "justify_content": null,
      "justify_items": null,
      "left": null,
      "margin": null,
      "max_height": null,
      "max_width": null,
      "min_height": null,
      "min_width": null,
      "object_fit": null,
      "object_position": null,
      "order": null,
      "overflow": null,
      "overflow_x": null,
      "overflow_y": null,
      "padding": null,
      "right": null,
      "top": null,
      "visibility": null,
      "width": null
     }
    },
    "d9e7928605a84aa6ac97432f964d7f02": {
     "model_module": "@jupyter-widgets/base",
     "model_module_version": "1.2.0",
     "model_name": "LayoutModel",
     "state": {
      "_model_module": "@jupyter-widgets/base",
      "_model_module_version": "1.2.0",
      "_model_name": "LayoutModel",
      "_view_count": null,
      "_view_module": "@jupyter-widgets/base",
      "_view_module_version": "1.2.0",
      "_view_name": "LayoutView",
      "align_content": null,
      "align_items": null,
      "align_self": null,
      "border": null,
      "bottom": null,
      "display": null,
      "flex": null,
      "flex_flow": null,
      "grid_area": null,
      "grid_auto_columns": null,
      "grid_auto_flow": null,
      "grid_auto_rows": null,
      "grid_column": null,
      "grid_gap": null,
      "grid_row": null,
      "grid_template_areas": null,
      "grid_template_columns": null,
      "grid_template_rows": null,
      "height": null,
      "justify_content": null,
      "justify_items": null,
      "left": null,
      "margin": null,
      "max_height": null,
      "max_width": null,
      "min_height": null,
      "min_width": null,
      "object_fit": null,
      "object_position": null,
      "order": null,
      "overflow": null,
      "overflow_x": null,
      "overflow_y": null,
      "padding": null,
      "right": null,
      "top": null,
      "visibility": null,
      "width": null
     }
    },
    "e1dfc14a7e4444aa8db32a8b0bf968f9": {
     "model_module": "@jupyter-widgets/controls",
     "model_module_version": "1.5.0",
     "model_name": "HTMLModel",
     "state": {
      "_dom_classes": [],
      "_model_module": "@jupyter-widgets/controls",
      "_model_module_version": "1.5.0",
      "_model_name": "HTMLModel",
      "_view_count": null,
      "_view_module": "@jupyter-widgets/controls",
      "_view_module_version": "1.5.0",
      "_view_name": "HTMLView",
      "description": "",
      "description_tooltip": null,
      "layout": "IPY_MODEL_52526a47602f4fa28d4a82c99a22638e",
      "placeholder": "​",
      "style": "IPY_MODEL_539999f9e68448d196bcb8bc65dbf96e",
      "value": " 28881/28881 [00:00&lt;00:00, 421555.62it/s]"
     }
    },
    "e2ec16b501af430daa72cf72eca00fa7": {
     "model_module": "@jupyter-widgets/base",
     "model_module_version": "1.2.0",
     "model_name": "LayoutModel",
     "state": {
      "_model_module": "@jupyter-widgets/base",
      "_model_module_version": "1.2.0",
      "_model_name": "LayoutModel",
      "_view_count": null,
      "_view_module": "@jupyter-widgets/base",
      "_view_module_version": "1.2.0",
      "_view_name": "LayoutView",
      "align_content": null,
      "align_items": null,
      "align_self": null,
      "border": null,
      "bottom": null,
      "display": null,
      "flex": null,
      "flex_flow": null,
      "grid_area": null,
      "grid_auto_columns": null,
      "grid_auto_flow": null,
      "grid_auto_rows": null,
      "grid_column": null,
      "grid_gap": null,
      "grid_row": null,
      "grid_template_areas": null,
      "grid_template_columns": null,
      "grid_template_rows": null,
      "height": null,
      "justify_content": null,
      "justify_items": null,
      "left": null,
      "margin": null,
      "max_height": null,
      "max_width": null,
      "min_height": null,
      "min_width": null,
      "object_fit": null,
      "object_position": null,
      "order": null,
      "overflow": null,
      "overflow_x": null,
      "overflow_y": null,
      "padding": null,
      "right": null,
      "top": null,
      "visibility": null,
      "width": null
     }
    },
    "ebd95008e9334b159c0be4ca7848da30": {
     "model_module": "@jupyter-widgets/controls",
     "model_module_version": "1.5.0",
     "model_name": "ProgressStyleModel",
     "state": {
      "_model_module": "@jupyter-widgets/controls",
      "_model_module_version": "1.5.0",
      "_model_name": "ProgressStyleModel",
      "_view_count": null,
      "_view_module": "@jupyter-widgets/base",
      "_view_module_version": "1.2.0",
      "_view_name": "StyleView",
      "bar_color": null,
      "description_width": ""
     }
    },
    "eca0d533702d4d759f42bf7bb1c5c1b1": {
     "model_module": "@jupyter-widgets/controls",
     "model_module_version": "1.5.0",
     "model_name": "HTMLModel",
     "state": {
      "_dom_classes": [],
      "_model_module": "@jupyter-widgets/controls",
      "_model_module_version": "1.5.0",
      "_model_name": "HTMLModel",
      "_view_count": null,
      "_view_module": "@jupyter-widgets/controls",
      "_view_module_version": "1.5.0",
      "_view_name": "HTMLView",
      "description": "",
      "description_tooltip": null,
      "layout": "IPY_MODEL_ab3395166a9641039a04141404a71595",
      "placeholder": "​",
      "style": "IPY_MODEL_6a9789c3c68142c6bfba3259ba4c543f",
      "value": " 4542/4542 [00:00&lt;00:00, 52131.81it/s]"
     }
    },
    "f4a8e550948c42ddb054eb5d63f70cf6": {
     "model_module": "@jupyter-widgets/controls",
     "model_module_version": "1.5.0",
     "model_name": "FloatProgressModel",
     "state": {
      "_dom_classes": [],
      "_model_module": "@jupyter-widgets/controls",
      "_model_module_version": "1.5.0",
      "_model_name": "FloatProgressModel",
      "_view_count": null,
      "_view_module": "@jupyter-widgets/controls",
      "_view_module_version": "1.5.0",
      "_view_name": "ProgressView",
      "bar_style": "success",
      "description": "",
      "description_tooltip": null,
      "layout": "IPY_MODEL_c45c30e82e7b4437a95d656403b94954",
      "max": 4542,
      "min": 0,
      "orientation": "horizontal",
      "style": "IPY_MODEL_ebd95008e9334b159c0be4ca7848da30",
      "value": 4542
     }
    },
    "fe4d212534bc42b4b5a1c26bb6ba659a": {
     "model_module": "@jupyter-widgets/base",
     "model_module_version": "1.2.0",
     "model_name": "LayoutModel",
     "state": {
      "_model_module": "@jupyter-widgets/base",
      "_model_module_version": "1.2.0",
      "_model_name": "LayoutModel",
      "_view_count": null,
      "_view_module": "@jupyter-widgets/base",
      "_view_module_version": "1.2.0",
      "_view_name": "LayoutView",
      "align_content": null,
      "align_items": null,
      "align_self": null,
      "border": null,
      "bottom": null,
      "display": null,
      "flex": null,
      "flex_flow": null,
      "grid_area": null,
      "grid_auto_columns": null,
      "grid_auto_flow": null,
      "grid_auto_rows": null,
      "grid_column": null,
      "grid_gap": null,
      "grid_row": null,
      "grid_template_areas": null,
      "grid_template_columns": null,
      "grid_template_rows": null,
      "height": null,
      "justify_content": null,
      "justify_items": null,
      "left": null,
      "margin": null,
      "max_height": null,
      "max_width": null,
      "min_height": null,
      "min_width": null,
      "object_fit": null,
      "object_position": null,
      "order": null,
      "overflow": null,
      "overflow_x": null,
      "overflow_y": null,
      "padding": null,
      "right": null,
      "top": null,
      "visibility": null,
      "width": null
     }
    }
   }
  }
 },
 "nbformat": 4,
 "nbformat_minor": 1
}
